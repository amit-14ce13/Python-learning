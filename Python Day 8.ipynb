{
 "cells": [
  {
   "cell_type": "code",
   "execution_count": 5,
   "id": "3f8c79c3",
   "metadata": {},
   "outputs": [
    {
     "name": "stdout",
     "output_type": "stream",
     "text": [
      "[2, 4, 6]\n"
     ]
    }
   ],
   "source": [
    "# pure functions\n",
    "\n",
    "def multiply_2(li1):\n",
    "    new_list = []\n",
    "    for item in li1:\n",
    "        new_list.append(item*2)\n",
    "    return new_list\n",
    "\n",
    "print(multiply_2([1,2,3]))\n"
   ]
  },
  {
   "cell_type": "code",
   "execution_count": 7,
   "id": "f15bd942",
   "metadata": {},
   "outputs": [
    {
     "name": "stdout",
     "output_type": "stream",
     "text": [
      "[2, 4, 6]\n"
     ]
    }
   ],
   "source": [
    "\n",
    "def multiply_2(li1):\n",
    "    new_list = []\n",
    "    for item in li1:\n",
    "        new_list.append(item*2)\n",
    "    return print(new_list) # it interacts with the outside world. print interacts with the screen which is\n",
    "multiply_2([1,2,3])        # outside world."
   ]
  },
  {
   "cell_type": "code",
   "execution_count": 8,
   "id": "8d7ee0cf",
   "metadata": {},
   "outputs": [
    {
     "name": "stdout",
     "output_type": "stream",
     "text": [
      "[2, 4, 6]\n"
     ]
    }
   ],
   "source": [
    "new_list = []\n",
    "def multiply_2(li1):\n",
    "    \n",
    "    for item in li1:\n",
    "        new_list.append(item*2) # It has side effects it interacts with the outside world.\n",
    "    return new_list # here new_list can be changed maybe to an empty string then we run\n",
    "                     # our function it will give error because operation like append may not be \n",
    "print(multiply_2([1,2,3])) # applicable for it."
   ]
  },
  {
   "cell_type": "code",
   "execution_count": 11,
   "id": "9fbbc9f8",
   "metadata": {},
   "outputs": [
    {
     "name": "stdout",
     "output_type": "stream",
     "text": [
      "<map object at 0x7fef445710d0>\n"
     ]
    }
   ],
   "source": [
    "# map()\n",
    "def multiply_2(li1):\n",
    "    new_list = []\n",
    "    for item in li1:\n",
    "        new_list.append(item*2)\n",
    "    return new_list\n",
    "\n",
    "print(map(multiply_2, [1,2,3]))"
   ]
  },
  {
   "cell_type": "code",
   "execution_count": 12,
   "id": "e272e30c",
   "metadata": {},
   "outputs": [
    {
     "ename": "TypeError",
     "evalue": "'int' object is not iterable",
     "output_type": "error",
     "traceback": [
      "\u001b[0;31m---------------------------------------------------------------------------\u001b[0m",
      "\u001b[0;31mTypeError\u001b[0m                                 Traceback (most recent call last)",
      "Input \u001b[0;32mIn [12]\u001b[0m, in \u001b[0;36m<cell line: 7>\u001b[0;34m()\u001b[0m\n\u001b[1;32m      4\u001b[0m         new_list\u001b[38;5;241m.\u001b[39mappend(item\u001b[38;5;241m*\u001b[39m\u001b[38;5;241m2\u001b[39m)\n\u001b[1;32m      5\u001b[0m     \u001b[38;5;28;01mreturn\u001b[39;00m new_list\n\u001b[0;32m----> 7\u001b[0m \u001b[38;5;28mprint\u001b[39m(\u001b[38;5;28;43mlist\u001b[39;49m\u001b[43m(\u001b[49m\u001b[38;5;28;43mmap\u001b[39;49m\u001b[43m(\u001b[49m\u001b[43mmultiply_2\u001b[49m\u001b[43m,\u001b[49m\u001b[43m \u001b[49m\u001b[43m[\u001b[49m\u001b[38;5;241;43m1\u001b[39;49m\u001b[43m,\u001b[49m\u001b[38;5;241;43m2\u001b[39;49m\u001b[43m,\u001b[49m\u001b[38;5;241;43m3\u001b[39;49m\u001b[43m]\u001b[49m\u001b[43m)\u001b[49m\u001b[43m)\u001b[49m)\n",
      "Input \u001b[0;32mIn [12]\u001b[0m, in \u001b[0;36mmultiply_2\u001b[0;34m(li1)\u001b[0m\n\u001b[1;32m      1\u001b[0m \u001b[38;5;28;01mdef\u001b[39;00m \u001b[38;5;21mmultiply_2\u001b[39m(li1):\n\u001b[1;32m      2\u001b[0m     new_list \u001b[38;5;241m=\u001b[39m []\n\u001b[0;32m----> 3\u001b[0m     \u001b[38;5;28;01mfor\u001b[39;00m item \u001b[38;5;129;01min\u001b[39;00m li1:\n\u001b[1;32m      4\u001b[0m         new_list\u001b[38;5;241m.\u001b[39mappend(item\u001b[38;5;241m*\u001b[39m\u001b[38;5;241m2\u001b[39m)\n\u001b[1;32m      5\u001b[0m     \u001b[38;5;28;01mreturn\u001b[39;00m new_list\n",
      "\u001b[0;31mTypeError\u001b[0m: 'int' object is not iterable"
     ]
    }
   ],
   "source": [
    "def multiply_2(li1):\n",
    "    new_list = []\n",
    "    for item in li1:\n",
    "        new_list.append(item*2)\n",
    "    return new_list\n",
    "\n",
    "print(list(map(multiply_2, [1,2,3])))"
   ]
  },
  {
   "cell_type": "code",
   "execution_count": 13,
   "id": "520b06f5",
   "metadata": {},
   "outputs": [
    {
     "name": "stdout",
     "output_type": "stream",
     "text": [
      "[2, 4, 6]\n"
     ]
    }
   ],
   "source": [
    "def multiply_2(item):\n",
    "\n",
    "    return (item*2)\n",
    "\n",
    "print(list(map(multiply_2, [1,2,3])))"
   ]
  },
  {
   "cell_type": "code",
   "execution_count": 14,
   "id": "53d83b18",
   "metadata": {},
   "outputs": [
    {
     "name": "stdout",
     "output_type": "stream",
     "text": [
      "[2, 4, 6]\n",
      "[1, 2, 3]\n"
     ]
    }
   ],
   "source": [
    "my_list = [1,2,3]\n",
    "def multiply_2(item):\n",
    "\n",
    "    return (item*2)\n",
    "\n",
    "print(list(map(multiply_2, my_list)))\n",
    "print(my_list) # we cany say map() is a pure function."
   ]
  },
  {
   "cell_type": "code",
   "execution_count": 16,
   "id": "c3dc20fe",
   "metadata": {},
   "outputs": [
    {
     "name": "stdout",
     "output_type": "stream",
     "text": [
      "[1, 3]\n",
      "[1, 2, 3]\n"
     ]
    }
   ],
   "source": [
    "# filter()\n",
    "\n",
    "my_list = [1,2,3]\n",
    "def only_odd(item):\n",
    "    return item% 2 != 0\n",
    "print(list(filter(only_odd, my_list)))\n",
    "print(my_list)"
   ]
  },
  {
   "cell_type": "code",
   "execution_count": 17,
   "id": "2ae841df",
   "metadata": {},
   "outputs": [
    {
     "name": "stdout",
     "output_type": "stream",
     "text": [
      "[(1, 10), (2, 20), (3, 30)]\n",
      "[1, 2, 3]\n"
     ]
    }
   ],
   "source": [
    "# zip()\n",
    "\n",
    "my_list = [1,2,3]\n",
    "your_list = [10,20,30]\n",
    "print(list(zip(my_list, your_list)))\n",
    "print(my_list) # it zips values at same position i.e. 0th index with 0th index of other list"
   ]
  },
  {
   "cell_type": "code",
   "execution_count": 18,
   "id": "fe0c854f",
   "metadata": {},
   "outputs": [
    {
     "name": "stdout",
     "output_type": "stream",
     "text": [
      "[(1, 10), (2, 20), (3, 30)]\n",
      "[1, 2, 3]\n"
     ]
    }
   ],
   "source": [
    " my_list = [1,2,3]\n",
    "your_list = (10,20,30) # it does the same thing even after one variable is tuple i.e. it only requires both as\n",
    "print(list(zip(my_list, your_list))) # iterables.\n",
    "print(my_list)"
   ]
  },
  {
   "cell_type": "code",
   "execution_count": 21,
   "id": "7282b70b",
   "metadata": {},
   "outputs": [
    {
     "name": "stdout",
     "output_type": "stream",
     "text": [
      "0 1\n",
      "1 2\n",
      "3 3\n",
      "6\n",
      "[1, 2, 3]\n"
     ]
    }
   ],
   "source": [
    "# reduce()\n",
    "from functools import reduce\n",
    "def accumulator(acc, item):\n",
    "    print(acc, item) # acc has been set to 0 see print statement third arguent.\n",
    "    return acc + item\n",
    "print(reduce(accumulator, my_list, 0))\n",
    "print(my_list)"
   ]
  },
  {
   "cell_type": "code",
   "execution_count": 22,
   "id": "f1426a2d",
   "metadata": {},
   "outputs": [
    {
     "name": "stdout",
     "output_type": "stream",
     "text": [
      "[2, 4, 6]\n",
      "[1, 2, 3]\n"
     ]
    }
   ],
   "source": [
    "# lambda expressions - one time anonymous function that you don't want more than once.\n",
    "# lambda param: action(param)- syntax of lambda\n",
    "my_list = [1,2,3]\n",
    "print(list(map(lambda item: item*2, my_list)))\n",
    "print(my_list)\n"
   ]
  },
  {
   "cell_type": "code",
   "execution_count": 23,
   "id": "d5d8bcd3",
   "metadata": {},
   "outputs": [
    {
     "name": "stdout",
     "output_type": "stream",
     "text": [
      "[1, 3]\n",
      "[1, 2, 3]\n"
     ]
    }
   ],
   "source": [
    "print(list(filter(lambda item: item%2 != 0, my_list)))\n",
    "print(my_list)"
   ]
  },
  {
   "cell_type": "code",
   "execution_count": 25,
   "id": "4b3eff06",
   "metadata": {},
   "outputs": [
    {
     "name": "stdout",
     "output_type": "stream",
     "text": [
      "6\n",
      "[1, 2, 3]\n"
     ]
    }
   ],
   "source": [
    "from functools import reduce\n",
    "print(reduce(lambda acc, item: acc+item, my_list))\n",
    "print(my_list)"
   ]
  },
  {
   "cell_type": "code",
   "execution_count": 26,
   "id": "ed53b83e",
   "metadata": {},
   "outputs": [
    {
     "name": "stdout",
     "output_type": "stream",
     "text": [
      "[25, 16, 9]\n"
     ]
    }
   ],
   "source": [
    "my_list = [5,4,3]\n",
    "# square\n",
    "\n",
    "new_list = list(map(lambda num: num**2, my_list))\n",
    "print(new_list)"
   ]
  },
  {
   "cell_type": "code",
   "execution_count": 29,
   "id": "7b5dbbf6",
   "metadata": {},
   "outputs": [
    {
     "name": "stdout",
     "output_type": "stream",
     "text": [
      "[(0, 2), (4, 3), (9, 9), (10, -1)]\n"
     ]
    }
   ],
   "source": [
    "# List sorting\n",
    "a = [(0,2), (4,3),(9,9),(10,-1)]\n",
    "a.sort()\n",
    "print (a)"
   ]
  },
  {
   "cell_type": "code",
   "execution_count": 30,
   "id": "a362da6e",
   "metadata": {},
   "outputs": [
    {
     "name": "stdout",
     "output_type": "stream",
     "text": [
      "[(10, -1), (0, 2), (4, 3), (9, 9)]\n"
     ]
    }
   ],
   "source": [
    "a = [(0,2), (4,3),(9,9),(10,-1)]\n",
    "a.sort(key=lambda x: x[1])\n",
    "print(a)"
   ]
  },
  {
   "cell_type": "code",
   "execution_count": null,
   "id": "353af679",
   "metadata": {},
   "outputs": [],
   "source": []
  }
 ],
 "metadata": {
  "kernelspec": {
   "display_name": "Python 3 (ipykernel)",
   "language": "python",
   "name": "python3"
  },
  "language_info": {
   "codemirror_mode": {
    "name": "ipython",
    "version": 3
   },
   "file_extension": ".py",
   "mimetype": "text/x-python",
   "name": "python",
   "nbconvert_exporter": "python",
   "pygments_lexer": "ipython3",
   "version": "3.9.12"
  }
 },
 "nbformat": 4,
 "nbformat_minor": 5
}
