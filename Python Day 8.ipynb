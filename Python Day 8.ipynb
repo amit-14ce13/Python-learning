{
 "cells": [
  {
   "cell_type": "code",
   "execution_count": 5,
   "id": "bf734110",
   "metadata": {},
   "outputs": [
    {
     "name": "stdout",
     "output_type": "stream",
     "text": [
      "[2, 4, 6]\n"
     ]
    }
   ],
   "source": [
    "# pure functions\n",
    "\n",
    "def multiply_2(li1):\n",
    "    new_list = []\n",
    "    for item in li1:\n",
    "        new_list.append(item*2)\n",
    "    return new_list\n",
    "\n",
    "print(multiply_2([1,2,3]))\n"
   ]
  },
  {
   "cell_type": "code",
   "execution_count": 7,
   "id": "fdbb56e3",
   "metadata": {},
   "outputs": [
    {
     "name": "stdout",
     "output_type": "stream",
     "text": [
      "[2, 4, 6]\n"
     ]
    }
   ],
   "source": [
    "\n",
    "def multiply_2(li1):\n",
    "    new_list = []\n",
    "    for item in li1:\n",
    "        new_list.append(item*2)\n",
    "    return print(new_list) # it interacts with the outside world. print interacts with the screen which is\n",
    "multiply_2([1,2,3])        # outside world."
   ]
  },
  {
   "cell_type": "code",
   "execution_count": 8,
   "id": "651cc269",
   "metadata": {},
   "outputs": [
    {
     "name": "stdout",
     "output_type": "stream",
     "text": [
      "[2, 4, 6]\n"
     ]
    }
   ],
   "source": [
    "new_list = []\n",
    "def multiply_2(li1):\n",
    "    \n",
    "    for item in li1:\n",
    "        new_list.append(item*2) # It has side effects it interacts with the outside world.\n",
    "    return new_list # here new_list can be changed maybe to an empty string then we run\n",
    "                     # our function it will give error because operation like append may not be \n",
    "print(multiply_2([1,2,3])) # applicable for it."
   ]
  },
  {
   "cell_type": "code",
   "execution_count": 11,
   "id": "00cd2c76",
   "metadata": {},
   "outputs": [
    {
     "name": "stdout",
     "output_type": "stream",
     "text": [
      "<map object at 0x7fef445710d0>\n"
     ]
    }
   ],
   "source": [
    "# map()\n",
    "def multiply_2(li1):\n",
    "    new_list = []\n",
    "    for item in li1:\n",
    "        new_list.append(item*2)\n",
    "    return new_list\n",
    "\n",
    "print(map(multiply_2, [1,2,3]))"
   ]
  },
  {
   "cell_type": "code",
   "execution_count": 12,
   "id": "573f3641",
   "metadata": {},
   "outputs": [
    {
     "ename": "TypeError",
     "evalue": "'int' object is not iterable",
     "output_type": "error",
     "traceback": [
      "\u001b[0;31m---------------------------------------------------------------------------\u001b[0m",
      "\u001b[0;31mTypeError\u001b[0m                                 Traceback (most recent call last)",
      "Input \u001b[0;32mIn [12]\u001b[0m, in \u001b[0;36m<cell line: 7>\u001b[0;34m()\u001b[0m\n\u001b[1;32m      4\u001b[0m         new_list\u001b[38;5;241m.\u001b[39mappend(item\u001b[38;5;241m*\u001b[39m\u001b[38;5;241m2\u001b[39m)\n\u001b[1;32m      5\u001b[0m     \u001b[38;5;28;01mreturn\u001b[39;00m new_list\n\u001b[0;32m----> 7\u001b[0m \u001b[38;5;28mprint\u001b[39m(\u001b[38;5;28;43mlist\u001b[39;49m\u001b[43m(\u001b[49m\u001b[38;5;28;43mmap\u001b[39;49m\u001b[43m(\u001b[49m\u001b[43mmultiply_2\u001b[49m\u001b[43m,\u001b[49m\u001b[43m \u001b[49m\u001b[43m[\u001b[49m\u001b[38;5;241;43m1\u001b[39;49m\u001b[43m,\u001b[49m\u001b[38;5;241;43m2\u001b[39;49m\u001b[43m,\u001b[49m\u001b[38;5;241;43m3\u001b[39;49m\u001b[43m]\u001b[49m\u001b[43m)\u001b[49m\u001b[43m)\u001b[49m)\n",
      "Input \u001b[0;32mIn [12]\u001b[0m, in \u001b[0;36mmultiply_2\u001b[0;34m(li1)\u001b[0m\n\u001b[1;32m      1\u001b[0m \u001b[38;5;28;01mdef\u001b[39;00m \u001b[38;5;21mmultiply_2\u001b[39m(li1):\n\u001b[1;32m      2\u001b[0m     new_list \u001b[38;5;241m=\u001b[39m []\n\u001b[0;32m----> 3\u001b[0m     \u001b[38;5;28;01mfor\u001b[39;00m item \u001b[38;5;129;01min\u001b[39;00m li1:\n\u001b[1;32m      4\u001b[0m         new_list\u001b[38;5;241m.\u001b[39mappend(item\u001b[38;5;241m*\u001b[39m\u001b[38;5;241m2\u001b[39m)\n\u001b[1;32m      5\u001b[0m     \u001b[38;5;28;01mreturn\u001b[39;00m new_list\n",
      "\u001b[0;31mTypeError\u001b[0m: 'int' object is not iterable"
     ]
    }
   ],
   "source": [
    "def multiply_2(li1):\n",
    "    new_list = []\n",
    "    for item in li1:\n",
    "        new_list.append(item*2)\n",
    "    return new_list\n",
    "\n",
    "print(list(map(multiply_2, [1,2,3])))"
   ]
  },
  {
   "cell_type": "code",
   "execution_count": 13,
   "id": "e16fe9ea",
   "metadata": {},
   "outputs": [
    {
     "name": "stdout",
     "output_type": "stream",
     "text": [
      "[2, 4, 6]\n"
     ]
    }
   ],
   "source": [
    "def multiply_2(item):\n",
    "\n",
    "    return (item*2)\n",
    "\n",
    "print(list(map(multiply_2, [1,2,3])))"
   ]
  },
  {
   "cell_type": "code",
   "execution_count": 14,
   "id": "5decef7b",
   "metadata": {},
   "outputs": [
    {
     "name": "stdout",
     "output_type": "stream",
     "text": [
      "[2, 4, 6]\n",
      "[1, 2, 3]\n"
     ]
    }
   ],
   "source": [
    "my_list = [1,2,3]\n",
    "def multiply_2(item):\n",
    "\n",
    "    return (item*2)\n",
    "\n",
    "print(list(map(multiply_2, my_list)))\n",
    "print(my_list) # we cany say map() is a pure function."
   ]
  },
  {
   "cell_type": "code",
   "execution_count": 16,
   "id": "6153a382",
   "metadata": {},
   "outputs": [
    {
     "name": "stdout",
     "output_type": "stream",
     "text": [
      "[1, 3]\n",
      "[1, 2, 3]\n"
     ]
    }
   ],
   "source": [
    "# filter()\n",
    "\n",
    "my_list = [1,2,3]\n",
    "def only_odd(item):\n",
    "    return item% 2 != 0\n",
    "print(list(filter(only_odd, my_list)))\n",
    "print(my_list)"
   ]
  },
  {
   "cell_type": "code",
   "execution_count": 17,
   "id": "3b477db6",
   "metadata": {},
   "outputs": [
    {
     "name": "stdout",
     "output_type": "stream",
     "text": [
      "[(1, 10), (2, 20), (3, 30)]\n",
      "[1, 2, 3]\n"
     ]
    }
   ],
   "source": [
    "# zip()\n",
    "\n",
    "my_list = [1,2,3]\n",
    "your_list = [10,20,30]\n",
    "print(list(zip(my_list, your_list)))\n",
    "print(my_list) # it zips values at same position i.e. 0th index with 0th index of other list"
   ]
  },
  {
   "cell_type": "code",
   "execution_count": 18,
   "id": "f621f160",
   "metadata": {},
   "outputs": [
    {
     "name": "stdout",
     "output_type": "stream",
     "text": [
      "[(1, 10), (2, 20), (3, 30)]\n",
      "[1, 2, 3]\n"
     ]
    }
   ],
   "source": [
    " my_list = [1,2,3]\n",
    "your_list = (10,20,30) # it does the same thing even after one variable is tuple i.e. it only requires both as\n",
    "print(list(zip(my_list, your_list))) # iterables.\n",
    "print(my_list)"
   ]
  },
  {
   "cell_type": "code",
   "execution_count": 21,
   "id": "8eee91b7",
   "metadata": {},
   "outputs": [
    {
     "name": "stdout",
     "output_type": "stream",
     "text": [
      "0 1\n",
      "1 2\n",
      "3 3\n",
      "6\n",
      "[1, 2, 3]\n"
     ]
    }
   ],
   "source": [
    "# reduce()\n",
    "from functools import reduce\n",
    "def accumulator(acc, item):\n",
    "    print(acc, item) # acc has been set to 0 see print statement third arguent.\n",
    "    return acc + item\n",
    "print(reduce(accumulator, my_list, 0))\n",
    "print(my_list)"
   ]
  },
  {
   "cell_type": "code",
   "execution_count": 22,
   "id": "11d276a0",
   "metadata": {},
   "outputs": [
    {
     "name": "stdout",
     "output_type": "stream",
     "text": [
      "[2, 4, 6]\n",
      "[1, 2, 3]\n"
     ]
    }
   ],
   "source": [
    "# lambda expressions - one time anonymous function that you don't want more than once.\n",
    "# lambda param: action(param)- syntax of lambda\n",
    "my_list = [1,2,3]\n",
    "print(list(map(lambda item: item*2, my_list)))\n",
    "print(my_list)\n"
   ]
  },
  {
   "cell_type": "code",
   "execution_count": 23,
   "id": "540939de",
   "metadata": {},
   "outputs": [
    {
     "name": "stdout",
     "output_type": "stream",
     "text": [
      "[1, 3]\n",
      "[1, 2, 3]\n"
     ]
    }
   ],
   "source": [
    "print(list(filter(lambda item: item%2 != 0, my_list)))\n",
    "print(my_list)"
   ]
  },
  {
   "cell_type": "code",
   "execution_count": 25,
   "id": "506ef446",
   "metadata": {},
   "outputs": [
    {
     "name": "stdout",
     "output_type": "stream",
     "text": [
      "6\n",
      "[1, 2, 3]\n"
     ]
    }
   ],
   "source": [
    "from functools import reduce\n",
    "print(reduce(lambda acc, item: acc+item, my_list))\n",
    "print(my_list)"
   ]
  },
  {
   "cell_type": "code",
   "execution_count": 26,
   "id": "ea13fe06",
   "metadata": {},
   "outputs": [
    {
     "name": "stdout",
     "output_type": "stream",
     "text": [
      "[25, 16, 9]\n"
     ]
    }
   ],
   "source": [
    "my_list = [5,4,3]\n",
    "# square\n",
    "\n",
    "new_list = list(map(lambda num: num**2, my_list))\n",
    "print(new_list)"
   ]
  },
  {
   "cell_type": "code",
   "execution_count": 29,
   "id": "ce6fe86c",
   "metadata": {},
   "outputs": [
    {
     "name": "stdout",
     "output_type": "stream",
     "text": [
      "[(0, 2), (4, 3), (9, 9), (10, -1)]\n"
     ]
    }
   ],
   "source": [
    "# List sorting\n",
    "a = [(0,2), (4,3),(9,9),(10,-1)]\n",
    "a.sort()\n",
    "print (a)"
   ]
  },
  {
   "cell_type": "code",
   "execution_count": 30,
   "id": "ddd6b132",
   "metadata": {},
   "outputs": [
    {
     "name": "stdout",
     "output_type": "stream",
     "text": [
      "[(10, -1), (0, 2), (4, 3), (9, 9)]\n"
     ]
    }
   ],
   "source": [
    "a = [(0,2), (4,3),(9,9),(10,-1)]\n",
    "a.sort(key=lambda x: x[1])\n",
    "print(a)"
   ]
  },
  {
   "cell_type": "code",
   "execution_count": 32,
   "id": "d035f401",
   "metadata": {},
   "outputs": [
    {
     "name": "stdout",
     "output_type": "stream",
     "text": [
      "['h', 'e', 'l', 'l', 'o']\n"
     ]
    }
   ],
   "source": [
    "my_list = [] # one way\n",
    "\n",
    "for char in 'hello':\n",
    "    my_list.append(char)\n",
    "    \n",
    "print(my_list)"
   ]
  },
  {
   "cell_type": "code",
   "execution_count": 34,
   "id": "8754b8b0",
   "metadata": {},
   "outputs": [
    {
     "name": "stdout",
     "output_type": "stream",
     "text": [
      "[0, 1, 2, 3, 4, 5, 6, 7, 8, 9]\n",
      "[0, 2, 4, 6, 8, 10, 12, 14, 16, 18]\n"
     ]
    }
   ],
   "source": [
    "# comprehensions\n",
    "\n",
    "my_list2 = [num for num in range(0,10)]\n",
    "my_list3 = [num*2 for num in range(0,10)] # num actually behaves as expression so it can perform such execution \n",
    "print(my_list2)\n",
    "print(my_list3)"
   ]
  },
  {
   "cell_type": "code",
   "execution_count": 35,
   "id": "8710ce83",
   "metadata": {},
   "outputs": [
    {
     "name": "stdout",
     "output_type": "stream",
     "text": [
      "[0, 4, 16, 36, 64]\n"
     ]
    }
   ],
   "source": [
    "my_list4 = [num**2 for num in range(0,100)]\n",
    "my_list5 = [num**2 for num in range(0,10) if num%2 == 0]\n",
    "print(my_list5)"
   ]
  },
  {
   "cell_type": "code",
   "execution_count": 37,
   "id": "29c119de",
   "metadata": {},
   "outputs": [
    {
     "name": "stdout",
     "output_type": "stream",
     "text": [
      "[18.922, 37.088, 10.562, 95.453, 4.666, 78.854, 21.068]\n",
      "['Jeff', 'Alex', 'Anna']\n",
      "3840\n"
     ]
    }
   ],
   "source": [
    " from functools import reduce\n",
    "    \n",
    "my_floats = [4.35, 6.09, 3.25, 9.77, 2.16, 8.88, 4.59]\n",
    "my_names = [\"Jeff\", \"Alex\", \"Johnathan\", \"Richelle\", \"Anna\"]\n",
    "my_numbers = [4,6,8,10,2]\n",
    "\n",
    "map_result = list(map(lambda x: round(x**2,3), my_floats))\n",
    "filter_result = list(filter(lambda name:len(name) <= 7, my_names))\n",
    "reduce_result = reduce(lambda num1, num2: num1*num2, my_numbers)\n",
    "\n",
    "print(map_result)\n",
    "print(filter_result)\n",
    "print(reduce_result)"
   ]
  },
  {
   "cell_type": "code",
   "execution_count": 3,
   "id": "691f5b87",
   "metadata": {},
   "outputs": [
    {
     "name": "stdout",
     "output_type": "stream",
     "text": [
      "{1, 2, 3, 4, 5, 6, 7, 8, 9, 10, 11, 12, 13, 14, 15, 16, 17, 18, 19, 20}\n"
     ]
    }
   ],
   "source": [
    "#set comprehension\n",
    "\n",
    "set1 = {0,1,2,3,4,5,6,7,8,9,10,11,12,13,14,15,16,17,18,19} # one way\n",
    "new_set1 = set()\n",
    "for i in set1:\n",
    "    new_set1.add(i+1)\n",
    "    \n",
    "print(new_set1)"
   ]
  },
  {
   "cell_type": "code",
   "execution_count": 5,
   "id": "cc922402",
   "metadata": {},
   "outputs": [
    {
     "name": "stdout",
     "output_type": "stream",
     "text": [
      "{1, 2, 3, 4, 5, 6, 7, 8, 9, 10, 11, 12, 13, 14, 15, 16, 17, 18, 19, 20}\n",
      "<class 'set'>\n"
     ]
    }
   ],
   "source": [
    "set2 = {0,1,2,3,4,5,6,7,8,9,10,11,12,13,14,15,16,17,18,19} # using set comprehension\n",
    "new_set2 = {i+1 for i in set2}\n",
    "print(new_set2)\n",
    "print(type(new_set2))"
   ]
  },
  {
   "cell_type": "code",
   "execution_count": 6,
   "id": "dc375343",
   "metadata": {},
   "outputs": [
    {
     "name": "stdout",
     "output_type": "stream",
     "text": [
      "{1, 2, 3, 4, 5, 6, 7, 8, 9, 10, 11, 12, 13, 14, 15, 16, 17, 18, 19, 20}\n"
     ]
    }
   ],
   "source": [
    "new_set2 = {i+1 for i in range(20)}\n",
    "print(new_set2)"
   ]
  },
  {
   "cell_type": "code",
   "execution_count": 7,
   "id": "0e9dc051",
   "metadata": {},
   "outputs": [
    {
     "name": "stdout",
     "output_type": "stream",
     "text": [
      "{0, 2, 4, 6, 8, 10, 12, 14, 16, 18}\n"
     ]
    }
   ],
   "source": [
    "set1 = set()\n",
    "for i in range(20):\n",
    "    if i%2 == 0:\n",
    "        set1.add(i)\n",
    "print(set1)"
   ]
  },
  {
   "cell_type": "code",
   "execution_count": 8,
   "id": "3b7cdb55",
   "metadata": {},
   "outputs": [
    {
     "name": "stdout",
     "output_type": "stream",
     "text": [
      "{0, 2, 4, 6, 8, 10, 12, 14, 16, 18}\n"
     ]
    }
   ],
   "source": [
    "set2 = {i for i in range(20) if i%2 == 0}\n",
    "print(set2)"
   ]
  },
  {
   "cell_type": "code",
   "execution_count": 9,
   "id": "9b99b210",
   "metadata": {},
   "outputs": [
    {
     "name": "stdout",
     "output_type": "stream",
     "text": [
      "{0, 18, 12, 6}\n"
     ]
    }
   ],
   "source": [
    "set1 = set()\n",
    "for i in range(20):\n",
    "    if i%2 == 0:\n",
    "        if i%3 == 0:\n",
    "            set1.add(i)\n",
    "print(set1)"
   ]
  },
  {
   "cell_type": "code",
   "execution_count": 10,
   "id": "f6dd634a",
   "metadata": {},
   "outputs": [
    {
     "name": "stdout",
     "output_type": "stream",
     "text": [
      "{0, 18, 12, 6}\n"
     ]
    }
   ],
   "source": [
    "set2 = {i for i in range(20) if i%2 == 0 if i%3 == 0}\n",
    "print(set2)"
   ]
  },
  {
   "cell_type": "code",
   "execution_count": 12,
   "id": "b8459c30",
   "metadata": {},
   "outputs": [
    {
     "name": "stdout",
     "output_type": "stream",
     "text": [
      "{0, 2, 4, 6, 1000, 5000, 8, 9000, 7000, 3000}\n"
     ]
    }
   ],
   "source": [
    "set1 = set()\n",
    "for i in range(10):\n",
    "    if i%2 == 0:\n",
    "        set1.add(i)\n",
    "    else:\n",
    "        set1.add(i*1000)\n",
    "print(set1)"
   ]
  },
  {
   "cell_type": "code",
   "execution_count": 13,
   "id": "2766717b",
   "metadata": {},
   "outputs": [
    {
     "name": "stdout",
     "output_type": "stream",
     "text": [
      "{0, 2, 4, 6, 1000, 5000, 8, 9000, 7000, 3000}\n"
     ]
    }
   ],
   "source": [
    "set2 = {i if i%2 == 0 else i*1000 for i in range(10)}\n",
    "print(set2)"
   ]
  },
  {
   "cell_type": "code",
   "execution_count": 16,
   "id": "10226ec5",
   "metadata": {},
   "outputs": [
    {
     "name": "stdout",
     "output_type": "stream",
     "text": [
      "{0: 0, 1: 2, 2: 4, 3: 6, 4: 8, 5: 10, 6: 12, 7: 14, 8: 16, 9: 18}\n"
     ]
    }
   ],
   "source": [
    "#dictionary comprehension\n",
    "\n",
    "dict1 = {}\n",
    "for i in range(10):\n",
    "    dict1[i] = i*2\n",
    "print(dict1)"
   ]
  },
  {
   "cell_type": "code",
   "execution_count": 18,
   "id": "ffbc977a",
   "metadata": {},
   "outputs": [
    {
     "name": "stdout",
     "output_type": "stream",
     "text": [
      "{0: 0, 1: 2, 2: 4, 3: 6, 4: 8, 5: 10, 6: 12, 7: 14, 8: 16, 9: 18}\n"
     ]
    }
   ],
   "source": [
    "dict2 = {n:n*2 for n in range(10)}\n",
    "print(dict2)"
   ]
  },
  {
   "cell_type": "code",
   "execution_count": 20,
   "id": "04e3005b",
   "metadata": {},
   "outputs": [
    {
     "name": "stdout",
     "output_type": "stream",
     "text": [
      "{0: 0, 2: 4, 4: 8, 6: 12, 8: 16}\n"
     ]
    }
   ],
   "source": [
    "dict2 = {n:n*2 for n in range(10) if n%2 == 0}\n",
    "print(dict2)"
   ]
  },
  {
   "cell_type": "code",
   "execution_count": 22,
   "id": "d3d14f6a",
   "metadata": {},
   "outputs": [
    {
     "name": "stdout",
     "output_type": "stream",
     "text": [
      "{0: 0, 1: 'Invalid', 2: 2, 3: 'Invalid', 4: 4, 5: 'Invalid', 6: 6, 7: 'Invalid', 8: 8, 9: 'Invalid'}\n"
     ]
    }
   ],
   "source": [
    "dict3 = {n:(n if n%2 == 0 else 'Invalid') for n in range(10)}\n",
    "print(dict3)"
   ]
  },
  {
   "cell_type": "code",
   "execution_count": 23,
   "id": "6b762b55",
   "metadata": {},
   "outputs": [
    {
     "name": "stdout",
     "output_type": "stream",
     "text": [
      "{0: 0, 1: 'Invalid', 2: 2, 3: 'Invalid', 4: 4, 5: 'Invalid', 6: 6, 7: 'Invalid', 8: 8, 9: 'Invalid'}\n"
     ]
    }
   ],
   "source": [
    "dict3 = {n:n if n%2 == 0 else 'Invalid' for n in range(10)}\n",
    "print(dict3)"
   ]
  },
  {
   "cell_type": "code",
   "execution_count": null,
   "id": "bfaa92b1",
   "metadata": {},
   "outputs": [],
   "source": []
  }
 ],
 "metadata": {
  "kernelspec": {
   "display_name": "Python 3 (ipykernel)",
   "language": "python",
   "name": "python3"
  },
  "language_info": {
   "codemirror_mode": {
    "name": "ipython",
    "version": 3
   },
   "file_extension": ".py",
   "mimetype": "text/x-python",
   "name": "python",
   "nbconvert_exporter": "python",
   "pygments_lexer": "ipython3",
   "version": "3.9.12"
  }
 },
 "nbformat": 4,
 "nbformat_minor": 5
}
