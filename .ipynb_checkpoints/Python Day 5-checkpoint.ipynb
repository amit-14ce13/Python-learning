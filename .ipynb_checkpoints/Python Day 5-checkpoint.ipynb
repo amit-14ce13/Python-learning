{
 "cells": [
  {
   "cell_type": "code",
   "execution_count": 1,
   "id": "c541f83b",
   "metadata": {},
   "outputs": [
    {
     "name": "stdout",
     "output_type": "stream",
     "text": [
      "1\n"
     ]
    }
   ],
   "source": [
    "my_list = [1,2,3]\n",
    "for item in my_list:\n",
    "    print(item)\n",
    "    break\n",
    "    "
   ]
  },
  {
   "cell_type": "code",
   "execution_count": 2,
   "id": "de585072",
   "metadata": {},
   "outputs": [
    {
     "name": "stdout",
     "output_type": "stream",
     "text": [
      "1\n"
     ]
    }
   ],
   "source": [
    "i = 0\n",
    "while i< len(my_list):\n",
    "    print(my_list[i])\n",
    "    i += 1\n",
    "    break\n"
   ]
  },
  {
   "cell_type": "code",
   "execution_count": 3,
   "id": "1fd975f4",
   "metadata": {},
   "outputs": [
    {
     "name": "stdout",
     "output_type": "stream",
     "text": [
      "1\n",
      "2\n",
      "3\n"
     ]
    }
   ],
   "source": [
    "my_list = [1,2,3]\n",
    "for item in my_list:\n",
    "    print(item)\n",
    "    continue"
   ]
  },
  {
   "cell_type": "code",
   "execution_count": 4,
   "id": "ef53aca5",
   "metadata": {},
   "outputs": [
    {
     "name": "stdout",
     "output_type": "stream",
     "text": [
      "1\n",
      "2\n",
      "3\n"
     ]
    }
   ],
   "source": [
    "i = 0\n",
    "while i< len(my_list):\n",
    "    print(my_list[i])\n",
    "    i += 1\n",
    "    continue"
   ]
  },
  {
   "cell_type": "code",
   "execution_count": 5,
   "id": "8f03b1ed",
   "metadata": {},
   "outputs": [],
   "source": [
    "my_list = [1,2,3]\n",
    "for item in my_list:\n",
    "    continue\n",
    "    print(item) # continue is taking it back to start of loop till it ends thus no print expression is getting executed."
   ]
  },
  {
   "cell_type": "code",
   "execution_count": 6,
   "id": "6a6fda79",
   "metadata": {},
   "outputs": [],
   "source": [
    "i = 0\n",
    "while i< len(my_list):\n",
    "    i += 1\n",
    "    continue\n",
    "    print(my_list[i])"
   ]
  },
  {
   "cell_type": "code",
   "execution_count": 7,
   "id": "149c707c",
   "metadata": {},
   "outputs": [],
   "source": [
    "my_list = [1,2,3]\n",
    "for item in my_list:\n",
    "    #thinking about it\n",
    "    pass   # it doesnot give a bug and later when we are sure about the block we can write in that place and remove pass."
   ]
  },
  {
   "cell_type": "code",
   "execution_count": 8,
   "id": "9f206c0b",
   "metadata": {},
   "outputs": [
    {
     "ename": "SyntaxError",
     "evalue": "invalid syntax (1889192511.py, line 3)",
     "output_type": "error",
     "traceback": [
      "\u001b[0;36m  Input \u001b[0;32mIn [8]\u001b[0;36m\u001b[0m\n\u001b[0;31m    for j in range(1,11)\u001b[0m\n\u001b[0m                        ^\u001b[0m\n\u001b[0;31mSyntaxError\u001b[0m\u001b[0;31m:\u001b[0m invalid syntax\n"
     ]
    }
   ],
   "source": [
    " for i in range(1,11):\n",
    "        print('Multiplication table of', i)\n",
    "        for j in range(1,11)\n",
    "        #condition to break inner loop\n",
    "        if i> 5 and j> 5 :\n",
    "            break\n",
    "            print(i*j, end= \" \")\n",
    "        print('')"
   ]
  },
  {
   "cell_type": "code",
   "execution_count": 13,
   "id": "e4ec6028",
   "metadata": {},
   "outputs": [
    {
     "name": "stdout",
     "output_type": "stream",
     "text": [
      "Multiplication table of 1\n",
      "1 2 3 4 5 6 7 8 9 10 \n",
      "Multiplication table of 2\n",
      "2 4 6 8 10 12 14 16 18 20 \n",
      "Multiplication table of 3\n",
      "3 6 9 12 15 18 21 24 27 30 \n",
      "Multiplication table of 4\n",
      "4 8 12 16 20 24 28 32 36 40 \n",
      "Multiplication table of 5\n",
      "5 10 15 20 25 30 35 40 45 50 \n",
      "Multiplication table of 6\n",
      "6 12 18 24 30 \n",
      "Multiplication table of 7\n",
      "7 14 21 28 35 \n",
      "Multiplication table of 8\n",
      "8 16 24 32 40 \n",
      "Multiplication table of 9\n",
      "9 18 27 36 45 \n",
      "Multiplication table of 10\n",
      "10 20 30 40 50 \n"
     ]
    }
   ],
   "source": [
    "for i in range(1,11):\n",
    "        print('Multiplication table of', i)\n",
    "        for j in range(1,11): # The error was a missing indentation\n",
    "            #condition to break inner loop\n",
    "            if i>5 and j>5: # Here also I was making error in indentation of if expression.\n",
    "                break\n",
    "            print(i*j, end= \" \")\n",
    "        print('')"
   ]
  },
  {
   "cell_type": "code",
   "execution_count": 16,
   "id": "6c4745a0",
   "metadata": {},
   "outputs": [
    {
     "name": "stdout",
     "output_type": "stream",
     "text": [
      "Multipication table of 1\n",
      "1 \n",
      "2 \n",
      "3 \n",
      "4 \n",
      "5 \n",
      "6 \n",
      "7 \n",
      "8 \n",
      "9 \n",
      "10 \n",
      "Multipication table of 2\n",
      "2 \n",
      "4 \n",
      "6 \n",
      "8 \n",
      "10 \n",
      "12 \n",
      "14 \n",
      "16 \n",
      "18 \n",
      "20 \n",
      "Multipication table of 3\n",
      "3 \n",
      "6 \n",
      "9 \n",
      "12 \n",
      "15 \n",
      "18 \n",
      "21 \n",
      "24 \n",
      "27 \n",
      "30 \n",
      "Multipication table of 4\n",
      "4 \n",
      "8 \n",
      "12 \n",
      "16 \n",
      "20 \n",
      "24 \n",
      "28 \n",
      "32 \n",
      "36 \n",
      "40 \n",
      "Multipication table of 5\n",
      "5 \n",
      "10 \n",
      "15 \n",
      "20 \n",
      "25 \n",
      "30 \n",
      "35 \n",
      "40 \n",
      "45 \n",
      "50 \n"
     ]
    }
   ],
   "source": [
    "for i in range(1,11):\n",
    "    #condition to break outer loop\n",
    "    if i>5:\n",
    "        break\n",
    "    print('Multipication table of', i)\n",
    "    for j in range(1,11):\n",
    "        print(i * j, end = ' ')\n",
    "        print('')"
   ]
  },
  {
   "cell_type": "code",
   "execution_count": 17,
   "id": "1ca4f2d6",
   "metadata": {},
   "outputs": [
    {
     "name": "stdout",
     "output_type": "stream",
     "text": [
      "current number is 2\n",
      "Square of a current no. is 4\n",
      "current number is 3\n",
      "Square of a current no. is 9\n",
      "current number is 11\n",
      "current number is 7\n",
      "Square of a current no. is 49\n"
     ]
    }
   ],
   "source": [
    "numbers = [2,3,11,7]\n",
    "for i in numbers:\n",
    "    print(\"current number is\", i)\n",
    "    # skip that no. which is greater than 10\n",
    "    if i>10:\n",
    "        continue\n",
    "    square = i*i\n",
    "    print(\"Square of a current no. is\", square)"
   ]
  },
  {
   "cell_type": "code",
   "execution_count": 19,
   "id": "4bd62e7a",
   "metadata": {},
   "outputs": [
    {
     "name": "stdout",
     "output_type": "stream",
     "text": [
      "7\n"
     ]
    }
   ],
   "source": [
    "name = 'Je sa a'\n",
    "\n",
    "size = len(name)\n",
    "print(size)"
   ]
  },
  {
   "cell_type": "code",
   "execution_count": 21,
   "id": "d16a256d",
   "metadata": {},
   "outputs": [
    {
     "name": "stdout",
     "output_type": "stream",
     "text": [
      "J e s a a "
     ]
    }
   ],
   "source": [
    "name = 'Je sa a'\n",
    "size = len(name)\n",
    "i = -1\n",
    "#iterate the loop till the last character\n",
    "while i < size -1:\n",
    "    i = i+1\n",
    "    #skip loop body if current character is space\n",
    "    if name[i].isspace():\n",
    "        continue\n",
    "    #print current character\n",
    "    print(name[i], end =' ')"
   ]
  },
  {
   "cell_type": "code",
   "execution_count": 22,
   "id": "a1c751c5",
   "metadata": {},
   "outputs": [],
   "source": [
    "#Write a program to display only those numbers from a list that satisfy the following conditions\n",
    "#The number must be divisible by five\n",
    "#If the number is greater than 150, then skip it and move to the next number\n",
    "#If the number is greater than 500, then stop the loop"
   ]
  },
  {
   "cell_type": "code",
   "execution_count": 23,
   "id": "a6cb5e79",
   "metadata": {},
   "outputs": [
    {
     "name": "stdout",
     "output_type": "stream",
     "text": [
      "75\n",
      "145\n"
     ]
    }
   ],
   "source": [
    "numbers = [12, 75, 180, 145,525,50]\n",
    "#iterate each item of a list\n",
    "for item in numbers:\n",
    "    if item > 500:\n",
    "        break\n",
    "    elif item >150: # I was using if expression which should not be used.\n",
    "        continue\n",
    "    #check if number is divisible by 5\n",
    "    elif item% 5 == 0:\n",
    "        print(item)\n",
    "        # observe after 525 the break statement gets executed so we exit out of loop therefore we didn't reach \n",
    "        # till 50.\n",
    "    "
   ]
  },
  {
   "cell_type": "code",
   "execution_count": 24,
   "id": "dd9cec52",
   "metadata": {},
   "outputs": [
    {
     "name": "stdout",
     "output_type": "stream",
     "text": [
      "hello world\n"
     ]
    }
   ],
   "source": [
    "#Functions\n",
    "\n",
    "def say_hello():\n",
    "    print('hello world')\n",
    "    \n",
    "say_hello()"
   ]
  },
  {
   "cell_type": "code",
   "execution_count": 26,
   "id": "039e8380",
   "metadata": {},
   "outputs": [
    {
     "name": "stdout",
     "output_type": "stream",
     "text": [
      "   *   \n",
      "  ***  \n",
      " ***** \n",
      "*******\n",
      "   *   \n",
      "   *   \n"
     ]
    }
   ],
   "source": [
    "picture = [\n",
    "    [0,0,0,1,0,0,0],\n",
    "    [0,0,1,1,1,0,0],\n",
    "    [0,1,1,1,1,1,0],\n",
    "    [1,1,1,1,1,1,1],\n",
    "    [0,0,0,1,0,0,0],\n",
    "    [0,0,0,1,0,0,0]\n",
    "]\n",
    "\n",
    "def show_tree():\n",
    "    for image in picture:\n",
    "        for pixel in image:\n",
    "            if(pixel):\n",
    "                print('*', end = \"\")\n",
    "            else:\n",
    "                print(' ', end = \"\")\n",
    "        print('')\n",
    "        \n",
    "show_tree() "
   ]
  },
  {
   "cell_type": "code",
   "execution_count": 27,
   "id": "9312fb96",
   "metadata": {},
   "outputs": [
    {
     "name": "stdout",
     "output_type": "stream",
     "text": [
      "   *   \n",
      "  ***  \n",
      " ***** \n",
      "*******\n",
      "   *   \n",
      "   *   \n"
     ]
    }
   ],
   "source": [
    "picture = [\n",
    "    [0,0,0,1,0,0,0],\n",
    "    [0,0,1,1,1,0,0],\n",
    "    [0,1,1,1,1,1,0],\n",
    "    [1,1,1,1,1,1,1],\n",
    "    [0,0,0,1,0,0,0],\n",
    "    [0,0,0,1,0,0,0]\n",
    "]\n",
    "show_tree()\n",
    "def show_tree():\n",
    "    for image in picture:\n",
    "        for pixel in image:\n",
    "            if(pixel):\n",
    "                print('*', end = \"\")\n",
    "            else:\n",
    "                print(' ', end = \"\")\n",
    "        print('')\n",
    " # my refrence video calling function before defining was giving error but not here.       \n"
   ]
  },
  {
   "cell_type": "code",
   "execution_count": 34,
   "id": "7acc70a9",
   "metadata": {},
   "outputs": [
    {
     "name": "stdout",
     "output_type": "stream",
     "text": [
      "hello Ritesh :)\n",
      "hello Amit :)\n",
      "hello Sourabh :)\n"
     ]
    }
   ],
   "source": [
    "# parameters\n",
    "def say_hello(name, emoji):\n",
    "    print(f'hello {name}{emoji}')\n",
    "    \n",
    "# arguments\n",
    "say_hello('Ritesh ' , ':)') # ritesh and emoji here are argumenmts while during defining fiunction name and\n",
    "say_hello('Amit ' , ':)')   # and emoji were parameters, also these are positional arguments because there \n",
    "say_hello('Sourabh ' , ':)') # there position matters.  "
   ]
  },
  {
   "cell_type": "code",
   "execution_count": null,
   "id": "423dfc11",
   "metadata": {},
   "outputs": [],
   "source": []
  }
 ],
 "metadata": {
  "kernelspec": {
   "display_name": "Python 3 (ipykernel)",
   "language": "python",
   "name": "python3"
  },
  "language_info": {
   "codemirror_mode": {
    "name": "ipython",
    "version": 3
   },
   "file_extension": ".py",
   "mimetype": "text/x-python",
   "name": "python",
   "nbconvert_exporter": "python",
   "pygments_lexer": "ipython3",
   "version": "3.9.12"
  }
 },
 "nbformat": 4,
 "nbformat_minor": 5
}
