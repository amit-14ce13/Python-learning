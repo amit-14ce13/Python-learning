{
 "cells": [
  {
   "cell_type": "code",
   "execution_count": 1,
   "id": "f58b8695",
   "metadata": {},
   "outputs": [
    {
     "name": "stdout",
     "output_type": "stream",
     "text": [
      "1\n"
     ]
    }
   ],
   "source": [
    "my_list = [1,2,3]\n",
    "for item in my_list:\n",
    "    print(item)\n",
    "    break\n",
    "    "
   ]
  },
  {
   "cell_type": "code",
   "execution_count": 2,
   "id": "f74a12b3",
   "metadata": {},
   "outputs": [
    {
     "name": "stdout",
     "output_type": "stream",
     "text": [
      "1\n"
     ]
    }
   ],
   "source": [
    "i = 0\n",
    "while i< len(my_list):\n",
    "    print(my_list[i])\n",
    "    i += 1\n",
    "    break\n"
   ]
  },
  {
   "cell_type": "code",
   "execution_count": 3,
   "id": "3ca42b2c",
   "metadata": {},
   "outputs": [
    {
     "name": "stdout",
     "output_type": "stream",
     "text": [
      "1\n",
      "2\n",
      "3\n"
     ]
    }
   ],
   "source": [
    "my_list = [1,2,3]\n",
    "for item in my_list:\n",
    "    print(item)\n",
    "    continue"
   ]
  },
  {
   "cell_type": "code",
   "execution_count": 4,
   "id": "06524f8c",
   "metadata": {},
   "outputs": [
    {
     "name": "stdout",
     "output_type": "stream",
     "text": [
      "1\n",
      "2\n",
      "3\n"
     ]
    }
   ],
   "source": [
    "i = 0\n",
    "while i< len(my_list):\n",
    "    print(my_list[i])\n",
    "    i += 1\n",
    "    continue"
   ]
  },
  {
   "cell_type": "code",
   "execution_count": 5,
   "id": "4a5f4442",
   "metadata": {},
   "outputs": [],
   "source": [
    "my_list = [1,2,3]\n",
    "for item in my_list:\n",
    "    continue\n",
    "    print(item) # continue is taking it back to start of loop till it ends thus no print expression is getting executed."
   ]
  },
  {
   "cell_type": "code",
   "execution_count": 6,
   "id": "578d1a16",
   "metadata": {},
   "outputs": [],
   "source": [
    "i = 0\n",
    "while i< len(my_list):\n",
    "    i += 1\n",
    "    continue\n",
    "    print(my_list[i])"
   ]
  },
  {
   "cell_type": "code",
   "execution_count": 7,
   "id": "c73eea24",
   "metadata": {},
   "outputs": [],
   "source": [
    "my_list = [1,2,3]\n",
    "for item in my_list:\n",
    "    #thinking about it\n",
    "    pass   # it doesnot give a bug and later when we are sure about the block we can write in that place and remove pass."
   ]
  },
  {
   "cell_type": "code",
   "execution_count": 8,
   "id": "0ba67714",
   "metadata": {},
   "outputs": [
    {
     "ename": "SyntaxError",
     "evalue": "invalid syntax (1889192511.py, line 3)",
     "output_type": "error",
     "traceback": [
      "\u001b[0;36m  Input \u001b[0;32mIn [8]\u001b[0;36m\u001b[0m\n\u001b[0;31m    for j in range(1,11)\u001b[0m\n\u001b[0m                        ^\u001b[0m\n\u001b[0;31mSyntaxError\u001b[0m\u001b[0;31m:\u001b[0m invalid syntax\n"
     ]
    }
   ],
   "source": [
    " for i in range(1,11):\n",
    "        print('Multiplication table of', i)\n",
    "        for j in range(1,11)\n",
    "        #condition to break inner loop\n",
    "        if i> 5 and j> 5 :\n",
    "            break\n",
    "            print(i*j, end= \" \")\n",
    "        print('')"
   ]
  },
  {
   "cell_type": "code",
   "execution_count": 13,
   "id": "347b9fc5",
   "metadata": {},
   "outputs": [
    {
     "name": "stdout",
     "output_type": "stream",
     "text": [
      "Multiplication table of 1\n",
      "1 2 3 4 5 6 7 8 9 10 \n",
      "Multiplication table of 2\n",
      "2 4 6 8 10 12 14 16 18 20 \n",
      "Multiplication table of 3\n",
      "3 6 9 12 15 18 21 24 27 30 \n",
      "Multiplication table of 4\n",
      "4 8 12 16 20 24 28 32 36 40 \n",
      "Multiplication table of 5\n",
      "5 10 15 20 25 30 35 40 45 50 \n",
      "Multiplication table of 6\n",
      "6 12 18 24 30 \n",
      "Multiplication table of 7\n",
      "7 14 21 28 35 \n",
      "Multiplication table of 8\n",
      "8 16 24 32 40 \n",
      "Multiplication table of 9\n",
      "9 18 27 36 45 \n",
      "Multiplication table of 10\n",
      "10 20 30 40 50 \n"
     ]
    }
   ],
   "source": [
    "for i in range(1,11):\n",
    "        print('Multiplication table of', i)\n",
    "        for j in range(1,11): # The error was a missing indentation\n",
    "            #condition to break inner loop\n",
    "            if i>5 and j>5: # Here also I was making error in indentation of if expression.\n",
    "                break\n",
    "            print(i*j, end= \" \")\n",
    "        print('')"
   ]
  },
  {
   "cell_type": "code",
   "execution_count": 16,
   "id": "77f1fb61",
   "metadata": {},
   "outputs": [
    {
     "name": "stdout",
     "output_type": "stream",
     "text": [
      "Multipication table of 1\n",
      "1 \n",
      "2 \n",
      "3 \n",
      "4 \n",
      "5 \n",
      "6 \n",
      "7 \n",
      "8 \n",
      "9 \n",
      "10 \n",
      "Multipication table of 2\n",
      "2 \n",
      "4 \n",
      "6 \n",
      "8 \n",
      "10 \n",
      "12 \n",
      "14 \n",
      "16 \n",
      "18 \n",
      "20 \n",
      "Multipication table of 3\n",
      "3 \n",
      "6 \n",
      "9 \n",
      "12 \n",
      "15 \n",
      "18 \n",
      "21 \n",
      "24 \n",
      "27 \n",
      "30 \n",
      "Multipication table of 4\n",
      "4 \n",
      "8 \n",
      "12 \n",
      "16 \n",
      "20 \n",
      "24 \n",
      "28 \n",
      "32 \n",
      "36 \n",
      "40 \n",
      "Multipication table of 5\n",
      "5 \n",
      "10 \n",
      "15 \n",
      "20 \n",
      "25 \n",
      "30 \n",
      "35 \n",
      "40 \n",
      "45 \n",
      "50 \n"
     ]
    }
   ],
   "source": [
    "for i in range(1,11):\n",
    "    #condition to break outer loop\n",
    "    if i>5:\n",
    "        break\n",
    "    print('Multipication table of', i)\n",
    "    for j in range(1,11):\n",
    "        print(i * j, end = ' ')\n",
    "        print('')"
   ]
  },
  {
   "cell_type": "code",
   "execution_count": 17,
   "id": "9b1556c9",
   "metadata": {},
   "outputs": [
    {
     "name": "stdout",
     "output_type": "stream",
     "text": [
      "current number is 2\n",
      "Square of a current no. is 4\n",
      "current number is 3\n",
      "Square of a current no. is 9\n",
      "current number is 11\n",
      "current number is 7\n",
      "Square of a current no. is 49\n"
     ]
    }
   ],
   "source": [
    "numbers = [2,3,11,7]\n",
    "for i in numbers:\n",
    "    print(\"current number is\", i)\n",
    "    # skip that no. which is greater than 10\n",
    "    if i>10:\n",
    "        continue\n",
    "    square = i*i\n",
    "    print(\"Square of a current no. is\", square)"
   ]
  },
  {
   "cell_type": "code",
   "execution_count": 19,
   "id": "9ceeb33d",
   "metadata": {},
   "outputs": [
    {
     "name": "stdout",
     "output_type": "stream",
     "text": [
      "7\n"
     ]
    }
   ],
   "source": [
    "name = 'Je sa a'\n",
    "\n",
    "size = len(name)\n",
    "print(size)"
   ]
  },
  {
   "cell_type": "code",
   "execution_count": 21,
   "id": "dc847297",
   "metadata": {},
   "outputs": [
    {
     "name": "stdout",
     "output_type": "stream",
     "text": [
      "J e s a a "
     ]
    }
   ],
   "source": [
    "name = 'Je sa a'\n",
    "size = len(name)\n",
    "i = -1\n",
    "#iterate the loop till the last character\n",
    "while i < size -1:\n",
    "    i = i+1\n",
    "    #skip loop body if current character is space\n",
    "    if name[i].isspace():\n",
    "        continue\n",
    "    #print current character\n",
    "    print(name[i], end =' ')"
   ]
  },
  {
   "cell_type": "code",
   "execution_count": 22,
   "id": "c5083ffa",
   "metadata": {},
   "outputs": [],
   "source": [
    "#Write a program to display only those numbers from a list that satisfy the following conditions\n",
    "#The number must be divisible by five\n",
    "#If the number is greater than 150, then skip it and move to the next number\n",
    "#If the number is greater than 500, then stop the loop"
   ]
  },
  {
   "cell_type": "code",
   "execution_count": 23,
   "id": "c42d2f21",
   "metadata": {},
   "outputs": [
    {
     "name": "stdout",
     "output_type": "stream",
     "text": [
      "75\n",
      "145\n"
     ]
    }
   ],
   "source": [
    "numbers = [12, 75, 180, 145,525,50]\n",
    "#iterate each item of a list\n",
    "for item in numbers:\n",
    "    if item > 500:\n",
    "        break\n",
    "    elif item >150: # I was using if expression which should not be used.\n",
    "        continue\n",
    "    #check if number is divisible by 5\n",
    "    elif item% 5 == 0:\n",
    "        print(item)\n",
    "        # observe after 525 the break statement gets executed so we exit out of loop therefore we didn't reach \n",
    "        # till 50.\n",
    "    "
   ]
  },
  {
   "cell_type": "code",
   "execution_count": 24,
   "id": "d3e75c1d",
   "metadata": {},
   "outputs": [
    {
     "name": "stdout",
     "output_type": "stream",
     "text": [
      "hello world\n"
     ]
    }
   ],
   "source": [
    "#Functions\n",
    "\n",
    "def say_hello():\n",
    "    print('hello world')\n",
    "    \n",
    "say_hello()"
   ]
  },
  {
   "cell_type": "code",
   "execution_count": 26,
   "id": "742044df",
   "metadata": {},
   "outputs": [
    {
     "name": "stdout",
     "output_type": "stream",
     "text": [
      "   *   \n",
      "  ***  \n",
      " ***** \n",
      "*******\n",
      "   *   \n",
      "   *   \n"
     ]
    }
   ],
   "source": [
    "picture = [\n",
    "    [0,0,0,1,0,0,0],\n",
    "    [0,0,1,1,1,0,0],\n",
    "    [0,1,1,1,1,1,0],\n",
    "    [1,1,1,1,1,1,1],\n",
    "    [0,0,0,1,0,0,0],\n",
    "    [0,0,0,1,0,0,0]\n",
    "]\n",
    "\n",
    "def show_tree():\n",
    "    for image in picture:\n",
    "        for pixel in image:\n",
    "            if(pixel):\n",
    "                print('*', end = \"\")\n",
    "            else:\n",
    "                print(' ', end = \"\")\n",
    "        print('')\n",
    "        \n",
    "show_tree() "
   ]
  },
  {
   "cell_type": "code",
   "execution_count": 27,
   "id": "b5287b35",
   "metadata": {},
   "outputs": [
    {
     "name": "stdout",
     "output_type": "stream",
     "text": [
      "   *   \n",
      "  ***  \n",
      " ***** \n",
      "*******\n",
      "   *   \n",
      "   *   \n"
     ]
    }
   ],
   "source": [
    "picture = [\n",
    "    [0,0,0,1,0,0,0],\n",
    "    [0,0,1,1,1,0,0],\n",
    "    [0,1,1,1,1,1,0],\n",
    "    [1,1,1,1,1,1,1],\n",
    "    [0,0,0,1,0,0,0],\n",
    "    [0,0,0,1,0,0,0]\n",
    "]\n",
    "show_tree()\n",
    "def show_tree():\n",
    "    for image in picture:\n",
    "        for pixel in image:\n",
    "            if(pixel):\n",
    "                print('*', end = \"\")\n",
    "            else:\n",
    "                print(' ', end = \"\")\n",
    "        print('')\n",
    " # my refrence video calling function before defining was giving error but not here.       \n"
   ]
  },
  {
   "cell_type": "code",
   "execution_count": 34,
   "id": "b09468b3",
   "metadata": {},
   "outputs": [
    {
     "name": "stdout",
     "output_type": "stream",
     "text": [
      "hello Ritesh :)\n",
      "hello Amit :)\n",
      "hello Sourabh :)\n"
     ]
    }
   ],
   "source": [
    "# parameters\n",
    "def say_hello(name, emoji):\n",
    "    print(f'hello {name}{emoji}')\n",
    "    \n",
    "# arguments\n",
    "say_hello('Ritesh ' , ':)') # ritesh and emoji here are argumenmts while during defining fiunction name and\n",
    "say_hello('Amit ' , ':)')   # and emoji were parameters, also these are positional arguments because there \n",
    "say_hello('Sourabh ' , ':)') # there position matters.  "
   ]
  },
  {
   "cell_type": "code",
   "execution_count": 36,
   "id": "d682b2e4",
   "metadata": {},
   "outputs": [
    {
     "name": "stdout",
     "output_type": "stream",
     "text": [
      "hello bibi :)\n"
     ]
    }
   ],
   "source": [
    "# keyword arguments\n",
    "say_hello(emoji = ':)', name = 'bibi ') # not good practice, follow the defined order."
   ]
  },
  {
   "cell_type": "code",
   "execution_count": 37,
   "id": "7a10dcd0",
   "metadata": {},
   "outputs": [
    {
     "name": "stdout",
     "output_type": "stream",
     "text": [
      "hello Ritesh :)\n",
      "hello Amit :)\n",
      "hello Sourabh :)\n",
      "hello krishna :)\n"
     ]
    }
   ],
   "source": [
    "# Default parameters\n",
    "\n",
    "def say_hello(name = 'krishna ', emoji = \":)\"):\n",
    "    print(f'hello {name}{emoji}')\n",
    "    \n",
    "# arguments\n",
    "say_hello('Ritesh ' , ':)') # If we miss giving arguments then default parameters gets printed as we can see in\n",
    "say_hello('Amit ' , ':)')   # in last function call.\n",
    "say_hello('Sourabh ' , ':)\n",
    "say_hello()"
   ]
  },
  {
   "cell_type": "code",
   "execution_count": 39,
   "id": "1fa95ced",
   "metadata": {},
   "outputs": [
    {
     "name": "stdout",
     "output_type": "stream",
     "text": [
      "25\n"
     ]
    }
   ],
   "source": [
    "#return statement\n",
    "\n",
    "def sum_m(num1,num2):\n",
    "    return num1+num2\n",
    "total = sum_m(10,5)\n",
    "print(sum_m(10,total))"
   ]
  },
  {
   "cell_type": "code",
   "execution_count": 40,
   "id": "0d2263a3",
   "metadata": {},
   "outputs": [
    {
     "name": "stdout",
     "output_type": "stream",
     "text": [
      "40\n"
     ]
    }
   ],
   "source": [
    "def sum_m1(num1,num2):\n",
    "    def another_func(n1,n2):\n",
    "        return n1+n2\n",
    "    return another_func(num1,num2)\n",
    "total = sum_m1(10,20)\n",
    "print(sum_m1(10,total)) # return statment after execution takes you out of function so if we write any statement\n",
    "# after that will not get executed."
   ]
  },
  {
   "cell_type": "code",
   "execution_count": 41,
   "id": "46d30e17",
   "metadata": {
    "scrolled": true
   },
   "outputs": [
    {
     "name": "stdout",
     "output_type": "stream",
     "text": [
      "Help on function test in module __main__:\n",
      "\n",
      "test(a)\n",
      "    Info: this function tests and print param a\n",
      "\n"
     ]
    }
   ],
   "source": [
    "# Docstrings\n",
    "\n",
    "def test(a):\n",
    "    '''\n",
    "    Info: this function tests and print param a\n",
    "    '''\n",
    "    print(a)\n",
    "help(test)\n",
    "test()"
   ]
  },
  {
   "cell_type": "code",
   "execution_count": 42,
   "id": "dd5184f4",
   "metadata": {},
   "outputs": [
    {
     "name": "stdout",
     "output_type": "stream",
     "text": [
      "\n",
      "    Info: this function tests and print param a\n",
      "    \n"
     ]
    }
   ],
   "source": [
    "print(test.__doc__)"
   ]
  },
  {
   "cell_type": "code",
   "execution_count": 43,
   "id": "225d4c64",
   "metadata": {},
   "outputs": [
    {
     "data": {
      "text/plain": [
       "True"
      ]
     },
     "execution_count": 43,
     "metadata": {},
     "output_type": "execute_result"
    }
   ],
   "source": [
    "def is_even(num):\n",
    "    if num% 2 == 0:\n",
    "        return True\n",
    "    else:\n",
    "        return False\n",
    "    \n",
    "is_even(50)\n",
    "    "
   ]
  },
  {
   "cell_type": "code",
   "execution_count": 44,
   "id": "4db39d7d",
   "metadata": {},
   "outputs": [
    {
     "data": {
      "text/plain": [
       "True"
      ]
     },
     "execution_count": 44,
     "metadata": {},
     "output_type": "execute_result"
    }
   ],
   "source": [
    "#clean code\n",
    "\n",
    "def is_even(num):\n",
    "    return num% 2 == 0\n",
    "\n",
    "is_even(50)"
   ]
  },
  {
   "cell_type": "code",
   "execution_count": 45,
   "id": "83b19b97",
   "metadata": {},
   "outputs": [
    {
     "ename": "TypeError",
     "evalue": "super_func() takes 1 positional argument but 5 were given",
     "output_type": "error",
     "traceback": [
      "\u001b[0;31m---------------------------------------------------------------------------\u001b[0m",
      "\u001b[0;31mTypeError\u001b[0m                                 Traceback (most recent call last)",
      "Input \u001b[0;32mIn [45]\u001b[0m, in \u001b[0;36m<cell line: 5>\u001b[0;34m()\u001b[0m\n\u001b[1;32m      3\u001b[0m \u001b[38;5;28;01mdef\u001b[39;00m \u001b[38;5;21msuper_func\u001b[39m(args):\n\u001b[1;32m      4\u001b[0m     \u001b[38;5;28;01mreturn\u001b[39;00m \u001b[38;5;28msum\u001b[39m(args)\n\u001b[0;32m----> 5\u001b[0m \u001b[43msuper_func\u001b[49m\u001b[43m(\u001b[49m\u001b[38;5;241;43m1\u001b[39;49m\u001b[43m,\u001b[49m\u001b[38;5;241;43m2\u001b[39;49m\u001b[43m,\u001b[49m\u001b[38;5;241;43m3\u001b[39;49m\u001b[43m,\u001b[49m\u001b[38;5;241;43m4\u001b[39;49m\u001b[43m,\u001b[49m\u001b[38;5;241;43m5\u001b[39;49m\u001b[43m)\u001b[49m\n",
      "\u001b[0;31mTypeError\u001b[0m: super_func() takes 1 positional argument but 5 were given"
     ]
    }
   ],
   "source": [
    "# *args and *kwargs\n",
    "\n",
    "def super_func(args):\n",
    "    return sum(args)\n",
    "super_func(1,2,3,4,5)"
   ]
  },
  {
   "cell_type": "code",
   "execution_count": 46,
   "id": "fefba055",
   "metadata": {},
   "outputs": [
    {
     "name": "stdout",
     "output_type": "stream",
     "text": [
      "1 2 3 4 5\n"
     ]
    },
    {
     "data": {
      "text/plain": [
       "15"
      ]
     },
     "execution_count": 46,
     "metadata": {},
     "output_type": "execute_result"
    }
   ],
   "source": [
    "def super_func(*args):\n",
    "    print(*args)\n",
    "    return sum(args)\n",
    "super_func(1,2,3,4,5)"
   ]
  },
  {
   "cell_type": "code",
   "execution_count": 48,
   "id": "0673edc6",
   "metadata": {},
   "outputs": [
    {
     "name": "stdout",
     "output_type": "stream",
     "text": [
      "(1, 2, 3, 4, 5)\n"
     ]
    },
    {
     "data": {
      "text/plain": [
       "15"
      ]
     },
     "execution_count": 48,
     "metadata": {},
     "output_type": "execute_result"
    }
   ],
   "source": [
    "def super_func(*args):\n",
    "    print(args) #  removed * mark then output is like a tuple.\n",
    "    return sum(args)\n",
    "super_func(1,2,3,4,5)"
   ]
  },
  {
   "cell_type": "code",
   "execution_count": 49,
   "id": "e04c6f2d",
   "metadata": {},
   "outputs": [
    {
     "name": "stdout",
     "output_type": "stream",
     "text": [
      "{'num1': 5, 'num2': 10}\n",
      "(1, 2, 3, 4, 5)\n"
     ]
    },
    {
     "ename": "NameError",
     "evalue": "name 'items' is not defined",
     "output_type": "error",
     "traceback": [
      "\u001b[0;31m---------------------------------------------------------------------------\u001b[0m",
      "\u001b[0;31mNameError\u001b[0m                                 Traceback (most recent call last)",
      "Input \u001b[0;32mIn [49]\u001b[0m, in \u001b[0;36m<cell line: 5>\u001b[0;34m()\u001b[0m\n\u001b[1;32m      3\u001b[0m     \u001b[38;5;28mprint\u001b[39m(args)\n\u001b[1;32m      4\u001b[0m     \u001b[38;5;28;01mreturn\u001b[39;00m \u001b[38;5;28msum\u001b[39m(args) \u001b[38;5;241m+\u001b[39m \u001b[38;5;28msum\u001b[39m(items \u001b[38;5;129;01min\u001b[39;00m kwargs\u001b[38;5;241m.\u001b[39mvalues())\n\u001b[0;32m----> 5\u001b[0m \u001b[38;5;28mprint\u001b[39m(\u001b[43msuper_funnc\u001b[49m\u001b[43m(\u001b[49m\u001b[38;5;241;43m1\u001b[39;49m\u001b[43m,\u001b[49m\u001b[38;5;241;43m2\u001b[39;49m\u001b[43m,\u001b[49m\u001b[38;5;241;43m3\u001b[39;49m\u001b[43m,\u001b[49m\u001b[38;5;241;43m4\u001b[39;49m\u001b[43m,\u001b[49m\u001b[38;5;241;43m5\u001b[39;49m\u001b[43m,\u001b[49m\u001b[43m \u001b[49m\u001b[43mnum1\u001b[49m\u001b[43m \u001b[49m\u001b[38;5;241;43m=\u001b[39;49m\u001b[43m \u001b[49m\u001b[38;5;241;43m5\u001b[39;49m\u001b[43m,\u001b[49m\u001b[43m \u001b[49m\u001b[43mnum2\u001b[49m\u001b[43m \u001b[49m\u001b[38;5;241;43m=\u001b[39;49m\u001b[43m \u001b[49m\u001b[38;5;241;43m10\u001b[39;49m\u001b[43m)\u001b[49m)\n",
      "Input \u001b[0;32mIn [49]\u001b[0m, in \u001b[0;36msuper_funnc\u001b[0;34m(*args, **kwargs)\u001b[0m\n\u001b[1;32m      2\u001b[0m \u001b[38;5;28mprint\u001b[39m(kwargs)\n\u001b[1;32m      3\u001b[0m \u001b[38;5;28mprint\u001b[39m(args)\n\u001b[0;32m----> 4\u001b[0m \u001b[38;5;28;01mreturn\u001b[39;00m \u001b[38;5;28msum\u001b[39m(args) \u001b[38;5;241m+\u001b[39m \u001b[38;5;28msum\u001b[39m(\u001b[43mitems\u001b[49m \u001b[38;5;129;01min\u001b[39;00m kwargs\u001b[38;5;241m.\u001b[39mvalues())\n",
      "\u001b[0;31mNameError\u001b[0m: name 'items' is not defined"
     ]
    }
   ],
   "source": [
    "def super_funnc(*args, **kwargs):\n",
    "    print(kwargs)\n",
    "    print(args)\n",
    "    return sum(args) + sum(items in kwargs.values())\n",
    "print(super_funnc(1,2,3,4,5, num1 = 5, num2 = 10))"
   ]
  },
  {
   "cell_type": "code",
   "execution_count": 50,
   "id": "ea7811a2",
   "metadata": {},
   "outputs": [
    {
     "name": "stdout",
     "output_type": "stream",
     "text": [
      "{'num1': 5, 'num2': 10}\n",
      "(1, 2, 3, 4, 5)\n",
      "30\n"
     ]
    }
   ],
   "source": [
    "def super_funnc(*args, **kwargs):\n",
    "    print(kwargs)\n",
    "    print(args)\n",
    "    total = 0\n",
    "    for items in kwargs.values():\n",
    "        total += items\n",
    "    return sum(args) + total\n",
    "print(super_funnc(1,2,3,4,5, num1 = 5, num2 = 10))\n",
    "        "
   ]
  },
  {
   "cell_type": "code",
   "execution_count": 51,
   "id": "c75ddbb6",
   "metadata": {},
   "outputs": [],
   "source": [
    "# order of different parameters in a function\n",
    "#Rule : positional parameters, *args, default parameters, **kwargs"
   ]
  },
  {
   "cell_type": "code",
   "execution_count": 52,
   "id": "e05add41",
   "metadata": {},
   "outputs": [
    {
     "name": "stdout",
     "output_type": "stream",
     "text": [
      "10\n"
     ]
    }
   ],
   "source": [
    "def highest_even(li):\n",
    "    evens = []\n",
    "    for item in li:\n",
    "        if item% 2 == 0:\n",
    "            evens.append(item)\n",
    "    return max(evens)\n",
    "print(highest_even([2,10,3,4,8,7,11]))"
   ]
  },
  {
   "cell_type": "code",
   "execution_count": 53,
   "id": "e3208fc7",
   "metadata": {},
   "outputs": [],
   "source": [
    "#Write a program to create a recursive function to calculate the sum of numbers from 0 to 10.\n",
    "#A recursive function is a function that calls itself, again and again.\n",
    "#Expected Output:\n",
    "\n",
    "#55"
   ]
  },
  {
   "cell_type": "code",
   "execution_count": 55,
   "id": "8c7eff97",
   "metadata": {},
   "outputs": [
    {
     "name": "stdout",
     "output_type": "stream",
     "text": [
      "55\n"
     ]
    }
   ],
   "source": [
    "def addition(num):\n",
    "    if num :\n",
    "        return  num + addition(num-1)\n",
    "    else:\n",
    "        return 0\n",
    "result = addition(10)\n",
    "print(result)   "
   ]
  },
  {
   "cell_type": "code",
   "execution_count": 56,
   "id": "f442a883",
   "metadata": {},
   "outputs": [
    {
     "name": "stdout",
     "output_type": "stream",
     "text": [
      "(1, 2, 3, 4, 5, 6, 7, 8, 9, 10)\n",
      "55\n"
     ]
    }
   ],
   "source": [
    " def addition(*args): # alternative way\n",
    "        print(args)\n",
    "        return sum(args)\n",
    "print(addition(1,2,3,4,5,6,7,8,9,10))\n",
    "        "
   ]
  },
  {
   "cell_type": "code",
   "execution_count": 58,
   "id": "596b1e28",
   "metadata": {},
   "outputs": [
    {
     "name": "stdout",
     "output_type": "stream",
     "text": [
      "10\n",
      "1\n"
     ]
    }
   ],
   "source": [
    "# scope                 # rule of scope or order of scope means where it sees for variable values\n",
    "                         # 1. start with local(here confusion has no local value for a)\n",
    "a = 1                   # 2. Parent local?( means do parent function  have value for that name variable)\n",
    "def parent():           # 3. Global - if that variabe is in gobal if not in any function\n",
    "    a = 10              # 4. built in - functions \n",
    "    def confusion():\n",
    "        return a\n",
    "    return confusion()\n",
    "print(parent())\n",
    "print(a)\n",
    "        "
   ]
  },
  {
   "cell_type": "code",
   "execution_count": 60,
   "id": "28ee9300",
   "metadata": {},
   "outputs": [
    {
     "name": "stdout",
     "output_type": "stream",
     "text": [
      "1\n",
      "1\n"
     ]
    }
   ],
   "source": [
    "a = 1                   # 2. Parent local?( means do parent function  have value for that name variable)\n",
    "def parent():           # 3. Global - if that variabe is in gobal if not in any function\n",
    "\n",
    "    def confusion():\n",
    "        return a\n",
    "    return confusion()\n",
    "print(parent())\n",
    "print(a)"
   ]
  },
  {
   "cell_type": "code",
   "execution_count": 61,
   "id": "5674d71d",
   "metadata": {},
   "outputs": [
    {
     "name": "stdout",
     "output_type": "stream",
     "text": [
      "<built-in function sum>\n",
      "1\n"
     ]
    }
   ],
   "source": [
    "a =1 \n",
    "def parent():\n",
    "    def confusion():\n",
    "        return sum\n",
    "    return confusion()\n",
    "print(parent())\n",
    "print(a)\n",
    "    "
   ]
  },
  {
   "cell_type": "code",
   "execution_count": 64,
   "id": "da06c9e3",
   "metadata": {},
   "outputs": [
    {
     "ename": "UnboundLocalError",
     "evalue": "local variable 'total' referenced before assignment",
     "output_type": "error",
     "traceback": [
      "\u001b[0;31m---------------------------------------------------------------------------\u001b[0m",
      "\u001b[0;31mUnboundLocalError\u001b[0m                         Traceback (most recent call last)",
      "Input \u001b[0;32mIn [64]\u001b[0m, in \u001b[0;36m<cell line: 7>\u001b[0;34m()\u001b[0m\n\u001b[1;32m      5\u001b[0m     total \u001b[38;5;241m+\u001b[39m\u001b[38;5;241m=\u001b[39m \u001b[38;5;241m1\u001b[39m\n\u001b[1;32m      6\u001b[0m     \u001b[38;5;28;01mreturn\u001b[39;00m total\n\u001b[0;32m----> 7\u001b[0m \u001b[38;5;28mprint\u001b[39m(\u001b[43mcount_1\u001b[49m\u001b[43m(\u001b[49m\u001b[43m)\u001b[49m)\n",
      "Input \u001b[0;32mIn [64]\u001b[0m, in \u001b[0;36mcount_1\u001b[0;34m()\u001b[0m\n\u001b[1;32m      4\u001b[0m \u001b[38;5;28;01mdef\u001b[39;00m \u001b[38;5;21mcount_1\u001b[39m():\n\u001b[0;32m----> 5\u001b[0m     total \u001b[38;5;241m+\u001b[39m\u001b[38;5;241m=\u001b[39m \u001b[38;5;241m1\u001b[39m\n\u001b[1;32m      6\u001b[0m     \u001b[38;5;28;01mreturn\u001b[39;00m total\n",
      "\u001b[0;31mUnboundLocalError\u001b[0m: local variable 'total' referenced before assignment"
     ]
    }
   ],
   "source": [
    "#global keyword\n",
    "\n",
    "total = 0\n",
    "def count_1():\n",
    "    total += 1\n",
    "    return total\n",
    "print(count_1())"
   ]
  },
  {
   "cell_type": "code",
   "execution_count": 65,
   "id": "96c75046",
   "metadata": {},
   "outputs": [
    {
     "name": "stdout",
     "output_type": "stream",
     "text": [
      "1\n"
     ]
    }
   ],
   "source": [
    "total = 0\n",
    "def count_1():\n",
    "    global total\n",
    "    total += 1\n",
    "    return total\n",
    "print(count_1())"
   ]
  },
  {
   "cell_type": "code",
   "execution_count": 67,
   "id": "503daab0",
   "metadata": {},
   "outputs": [
    {
     "name": "stdout",
     "output_type": "stream",
     "text": [
      "3\n"
     ]
    }
   ],
   "source": [
    "total = 0\n",
    "def count_1(total):   # alternative way for above thing so that we don't need to use such keywords\n",
    "    \n",
    "    total += 1\n",
    "    return total\n",
    "print(count_1(count_1(count_1(total))))"
   ]
  },
  {
   "cell_type": "code",
   "execution_count": 68,
   "id": "9577c676",
   "metadata": {},
   "outputs": [
    {
     "name": "stdout",
     "output_type": "stream",
     "text": [
      "inner : nonlocal\n",
      "outer : nonlocal\n"
     ]
    }
   ],
   "source": [
    "# nonlocal keyword\n",
    "\n",
    "def outer():\n",
    "    x = \"local\"\n",
    "    def inner():\n",
    "        nonlocal x\n",
    "        x = \"nonlocal\"\n",
    "        print(\"inner :\", x)\n",
    "        \n",
    "    inner()\n",
    "    print(\"outer :\", x)\n",
    "    \n",
    "outer()"
   ]
  },
  {
   "cell_type": "code",
   "execution_count": 69,
   "id": "ae28b251",
   "metadata": {},
   "outputs": [
    {
     "name": "stdout",
     "output_type": "stream",
     "text": [
      "inner : nonlocal\n",
      "outer : local\n"
     ]
    }
   ],
   "source": [
    "def outer():\n",
    "    x = \"local\"\n",
    "    def inner():\n",
    "        #nonlocal x\n",
    "        x = \"nonlocal\"\n",
    "        print(\"inner :\", x)\n",
    "        \n",
    "    inner()\n",
    "    print(\"outer :\", x)\n",
    "    \n",
    "outer()"
   ]
  },
  {
   "cell_type": "code",
   "execution_count": null,
   "id": "7534771c",
   "metadata": {},
   "outputs": [],
   "source": []
  }
 ],
 "metadata": {
  "kernelspec": {
   "display_name": "Python 3 (ipykernel)",
   "language": "python",
   "name": "python3"
  },
  "language_info": {
   "codemirror_mode": {
    "name": "ipython",
    "version": 3
   },
   "file_extension": ".py",
   "mimetype": "text/x-python",
   "name": "python",
   "nbconvert_exporter": "python",
   "pygments_lexer": "ipython3",
   "version": "3.9.12"
  }
 },
 "nbformat": 4,
 "nbformat_minor": 5
}
