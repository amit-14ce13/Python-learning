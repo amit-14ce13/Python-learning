{
 "cells": [
  {
   "cell_type": "code",
   "execution_count": 2,
   "id": "1ee6e523",
   "metadata": {},
   "outputs": [
    {
     "name": "stderr",
     "output_type": "stream",
     "text": [
      "WARNING: pip is being invoked by an old script wrapper. This will fail in a future version of pip.\n",
      "Please see https://github.com/pypa/pip/issues/5599 for advice on fixing the underlying issue.\n",
      "To avoid this problem you can invoke Python with '-m pip' instead of running pip directly.\n"
     ]
    },
    {
     "name": "stdout",
     "output_type": "stream",
     "text": [
      "Requirement already satisfied: msgpack in /home/shtlp0059/anaconda3/lib/python3.9/site-packages (1.0.2)\n"
     ]
    },
    {
     "name": "stderr",
     "output_type": "stream",
     "text": [
      "WARNING: pip is being invoked by an old script wrapper. This will fail in a future version of pip.\n",
      "Please see https://github.com/pypa/pip/issues/5599 for advice on fixing the underlying issue.\n",
      "To avoid this problem you can invoke Python with '-m pip' instead of running pip directly.\n"
     ]
    },
    {
     "name": "stdout",
     "output_type": "stream",
     "text": [
      "Collecting pixiedust\n",
      "  Downloading pixiedust-1.1.19.tar.gz (197 kB)\n",
      "Collecting geojson\n",
      "  Downloading geojson-2.5.0-py2.py3-none-any.whl (14 kB)\n",
      "Collecting astunparse\n",
      "  Downloading astunparse-1.6.3-py2.py3-none-any.whl (12 kB)\n",
      "Requirement already satisfied: markdown in /home/shtlp0059/anaconda3/lib/python3.9/site-packages (from pixiedust) (3.3.4)\n",
      "Collecting colour\n",
      "  Downloading colour-0.1.5-py2.py3-none-any.whl (23 kB)\n",
      "Requirement already satisfied: requests in /home/shtlp0059/anaconda3/lib/python3.9/site-packages (from pixiedust) (2.27.1)\n",
      "Requirement already satisfied: matplotlib in /home/shtlp0059/anaconda3/lib/python3.9/site-packages (from pixiedust) (3.5.1)\n",
      "Requirement already satisfied: pandas in /home/shtlp0059/anaconda3/lib/python3.9/site-packages (from pixiedust) (1.4.2)\n",
      "Requirement already satisfied: wheel<1.0,>=0.23.0 in /home/shtlp0059/anaconda3/lib/python3.9/site-packages (from astunparse->pixiedust) (0.37.1)\n",
      "Requirement already satisfied: six<2.0,>=1.6.1 in /home/shtlp0059/anaconda3/lib/python3.9/site-packages (from astunparse->pixiedust) (1.16.0)\n",
      "Requirement already satisfied: cycler>=0.10 in /home/shtlp0059/anaconda3/lib/python3.9/site-packages (from matplotlib->pixiedust) (0.11.0)\n",
      "Requirement already satisfied: python-dateutil>=2.7 in /home/shtlp0059/anaconda3/lib/python3.9/site-packages (from matplotlib->pixiedust) (2.8.2)\n",
      "Requirement already satisfied: pillow>=6.2.0 in /home/shtlp0059/anaconda3/lib/python3.9/site-packages (from matplotlib->pixiedust) (9.0.1)\n",
      "Requirement already satisfied: pyparsing>=2.2.1 in /home/shtlp0059/anaconda3/lib/python3.9/site-packages (from matplotlib->pixiedust) (3.0.4)\n",
      "Requirement already satisfied: kiwisolver>=1.0.1 in /home/shtlp0059/anaconda3/lib/python3.9/site-packages (from matplotlib->pixiedust) (1.3.2)\n",
      "Requirement already satisfied: numpy>=1.17 in /home/shtlp0059/anaconda3/lib/python3.9/site-packages (from matplotlib->pixiedust) (1.21.5)\n",
      "Requirement already satisfied: packaging>=20.0 in /home/shtlp0059/anaconda3/lib/python3.9/site-packages (from matplotlib->pixiedust) (21.3)\n",
      "Requirement already satisfied: fonttools>=4.22.0 in /home/shtlp0059/anaconda3/lib/python3.9/site-packages (from matplotlib->pixiedust) (4.25.0)\n",
      "Requirement already satisfied: pytz>=2020.1 in /home/shtlp0059/anaconda3/lib/python3.9/site-packages (from pandas->pixiedust) (2021.3)\n",
      "Requirement already satisfied: certifi>=2017.4.17 in /home/shtlp0059/anaconda3/lib/python3.9/site-packages (from requests->pixiedust) (2021.10.8)\n",
      "Requirement already satisfied: charset-normalizer~=2.0.0 in /home/shtlp0059/anaconda3/lib/python3.9/site-packages (from requests->pixiedust) (2.0.4)\n",
      "Requirement already satisfied: urllib3<1.27,>=1.21.1 in /home/shtlp0059/anaconda3/lib/python3.9/site-packages (from requests->pixiedust) (1.26.9)\n",
      "Requirement already satisfied: idna<4,>=2.5 in /home/shtlp0059/anaconda3/lib/python3.9/site-packages (from requests->pixiedust) (3.3)\n",
      "Building wheels for collected packages: pixiedust\n",
      "  Building wheel for pixiedust (setup.py): started\n",
      "  Building wheel for pixiedust (setup.py): finished with status 'done'\n",
      "  Created wheel for pixiedust: filename=pixiedust-1.1.19-py3-none-any.whl size=321801 sha256=9a3bd068e4be2ca230399dc8516992f62cb3959cceedf84fbb364d0c368ccda3\n",
      "  Stored in directory: /home/shtlp0059/.cache/pip/wheels/77/d4/e1/a85b6f570da64ab83b7a9d9ac0353f6d0592c60a31099208c7\n",
      "Successfully built pixiedust\n",
      "Installing collected packages: geojson, colour, astunparse, pixiedust\n",
      "Successfully installed astunparse-1.6.3 colour-0.1.5 geojson-2.5.0 pixiedust-1.1.19\n"
     ]
    },
    {
     "data": {
      "text/plain": [
       "0"
      ]
     },
     "execution_count": 2,
     "metadata": {},
     "output_type": "execute_result"
    }
   ],
   "source": [
    "# Install pixiedust\n",
    "from pip._internal import main\n",
    "main([\"install\", \"msgpack\"])\n",
    "main([\"install\", \"pixiedust\"])"
   ]
  },
  {
   "cell_type": "code",
   "execution_count": 3,
   "id": "7f5a3e8f",
   "metadata": {},
   "outputs": [
    {
     "name": "stdout",
     "output_type": "stream",
     "text": [
      "Pixiedust database opened successfully\n",
      "Table VERSION_TRACKER created successfully\n",
      "Table METRICS_TRACKER created successfully\n",
      "\n",
      "Share anonymous install statistics? (opt-out instructions)\n",
      "\n",
      "PixieDust will record metadata on its environment the next time the package is installed or updated. The data is anonymized and aggregated to help plan for future releases, and records only the following values:\n",
      "\n",
      "{\n",
      "   \"data_sent\": currentDate,\n",
      "   \"runtime\": \"python\",\n",
      "   \"application_version\": currentPixiedustVersion,\n",
      "   \"space_id\": nonIdentifyingUniqueId,\n",
      "   \"config\": {\n",
      "       \"repository_id\": \"https://github.com/ibm-watson-data-lab/pixiedust\",\n",
      "       \"target_runtimes\": [\"Data Science Experience\"],\n",
      "       \"event_id\": \"web\",\n",
      "       \"event_organizer\": \"dev-journeys\"\n",
      "   }\n",
      "}\n",
      "You can opt out by calling pixiedust.optOut() in a new cell.\n"
     ]
    },
    {
     "data": {
      "text/html": [
       "\n",
       "        <div style=\"margin:10px\">\n",
       "            <a href=\"https://github.com/ibm-watson-data-lab/pixiedust\" target=\"_new\">\n",
       "                <img src=\"https://github.com/ibm-watson-data-lab/pixiedust/raw/master/docs/_static/pd_icon32.png\" style=\"float:left;margin-right:10px\"/>\n",
       "            </a>\n",
       "            <span>Pixiedust version 1.1.19</span>\n",
       "        </div>\n",
       "        "
      ],
      "text/plain": [
       "<IPython.core.display.HTML object>"
      ]
     },
     "metadata": {},
     "output_type": "display_data"
    },
    {
     "name": "stdout",
     "output_type": "stream",
     "text": [
      "\u001b[31mPixiedust runtime updated. Please restart kernel\u001b[0m\n",
      "Note: NumExpr detected 16 cores but \"NUMEXPR_MAX_THREADS\" not set, so enforcing safe limit of 8.\n",
      "NumExpr defaulting to 8 threads.\n",
      "Table USER_PREFERENCES created successfully\n",
      "Table service_connections created successfully\n"
     ]
    }
   ],
   "source": [
    "# Import pixiedust\n",
    "import pixiedust"
   ]
  },
  {
   "cell_type": "code",
   "execution_count": null,
   "id": "f4d0f7b3",
   "metadata": {
    "pixiedust": {
     "displayParams": {}
    }
   },
   "outputs": [
    {
     "data": {
      "text/html": [
       "<style type=\"text/css\">.pd_warning{display:none;}</style><div class=\"pd_warning\"><em>Hey, there's something awesome here! To see it, open this notebook outside GitHub, in a viewer like Jupyter</em></div>"
      ],
      "text/plain": [
       "<IPython.core.display.HTML object>"
      ]
     },
     "metadata": {
      "pixieapp_metadata": null
     },
     "output_type": "display_data"
    }
   ],
   "source": [
    "%%pixie_debugger -b SumArray\n",
    "def SumArray(arr):\n",
    "    sum = 0;\n",
    "    for a in arr:\n",
    "        sum = sum+a;\n",
    "        return sum;\n",
    "    \n",
    "SumArray([1,2,3,4,5])\n",
    "    "
   ]
  },
  {
   "cell_type": "code",
   "execution_count": null,
   "id": "95916bb6",
   "metadata": {},
   "outputs": [],
   "source": []
  }
 ],
 "metadata": {
  "kernelspec": {
   "display_name": "Python 3 (ipykernel)",
   "language": "python",
   "name": "python3"
  },
  "language_info": {
   "codemirror_mode": {
    "name": "ipython",
    "version": 3
   },
   "file_extension": ".py",
   "mimetype": "text/x-python",
   "name": "python",
   "nbconvert_exporter": "python",
   "pygments_lexer": "ipython3",
   "version": "3.9.12"
  }
 },
 "nbformat": 4,
 "nbformat_minor": 5
}
