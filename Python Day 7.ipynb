{
 "cells": [
  {
   "cell_type": "code",
   "execution_count": 1,
   "id": "cbbd8f96",
   "metadata": {},
   "outputs": [],
   "source": [
    "# Polymorphism refers to the ways objects,classes can share the same method name but those methods but\n",
    "# these methods name can act differently based on what objects calls it."
   ]
  },
  {
   "cell_type": "code",
   "execution_count": 2,
   "id": "ca7103af",
   "metadata": {},
   "outputs": [
    {
     "name": "stdout",
     "output_type": "stream",
     "text": [
      "attacking with power of 50\n",
      "attacking with arrows : arrows left - 100\n"
     ]
    }
   ],
   "source": [
    "class User:\n",
    "    def sign_in(self):\n",
    "        print('logged in')\n",
    "        \n",
    "class Wizard(User):\n",
    "    def __init__(self,name,power):\n",
    "        self.name = name\n",
    "        self.power = power\n",
    "        \n",
    "    def attack(self):\n",
    "        print(f'attacking with power of {self.power}')\n",
    "\n",
    "class Archer(User):\n",
    "    def __init__(self,name,num_arrows): # both classes Wizard and Archer have used attack method but it acts\n",
    "        self.name = name                # differently for both.\n",
    "        self.num_arrows = num_arrows\n",
    "        \n",
    "    def attack(self):\n",
    "        print(f'attacking with arrows : arrows left - {self.num_arrows}')\n",
    "Wizard1 = Wizard('Merlin', 50)\n",
    "Archer1 = Archer('Navin', 100)\n",
    "def player_attack(char):\n",
    "    char.attack()\n",
    "player_attack(Wizard1)\n",
    "player_attack(Archer1)"
   ]
  },
  {
   "cell_type": "code",
   "execution_count": 3,
   "id": "5945104b",
   "metadata": {},
   "outputs": [
    {
     "name": "stdout",
     "output_type": "stream",
     "text": [
      "attacking with power of 50\n",
      "attacking with arrows : arrows left - 100\n"
     ]
    }
   ],
   "source": [
    "class User:\n",
    "    def sign_in(self):\n",
    "        print('logged in')\n",
    "        \n",
    "class Wizard(User):\n",
    "    def __init__(self,name,power):\n",
    "        self.name = name\n",
    "        self.power = power\n",
    "        \n",
    "    def attack(self):\n",
    "        print(f'attacking with power of {self.power}')\n",
    "\n",
    "class Archer(User):\n",
    "    def __init__(self,name,num_arrows): # both classes Wizard and Archer have used attack method but it acts\n",
    "        self.name = name                # differently for both.\n",
    "        self.num_arrows = num_arrows\n",
    "        \n",
    "    def attack(self):\n",
    "        print(f'attacking with arrows : arrows left - {self.num_arrows}')\n",
    "Wizard1 = Wizard('Merlin', 50)\n",
    "Archer1 = Archer('Navin', 100)\n",
    "for char in [Wizard1, Archer1]: # alternative way\n",
    "    char.attack()    "
   ]
  },
  {
   "cell_type": "code",
   "execution_count": 4,
   "id": "dc905a59",
   "metadata": {},
   "outputs": [
    {
     "name": "stdout",
     "output_type": "stream",
     "text": [
      "do nothing\n",
      "attacking with power of 50\n",
      "attacking with arrows : arrows left - 100\n"
     ]
    }
   ],
   "source": [
    "class User:\n",
    "    def sign_in(self):\n",
    "        print('logged in')\n",
    "    def attack(self):\n",
    "        print('do nothing')\n",
    "        \n",
    "class Wizard(User):\n",
    "    def __init__(self,name,power):\n",
    "        self.name = name\n",
    "        self.power = power\n",
    "        \n",
    "    def attack(self):\n",
    "        User.attack(self)\n",
    "        print(f'attacking with power of {self.power}')\n",
    "\n",
    "class Archer(User):\n",
    "    def __init__(self,name,num_arrows): \n",
    "        self.name = name            \n",
    "        self.num_arrows = num_arrows\n",
    "        \n",
    "    def attack(self):\n",
    "        print(f'attacking with arrows : arrows left - {self.num_arrows}')\n",
    "Wizard1 = Wizard('Merlin', 50)\n",
    "Archer1 = Archer('Navin', 100)\n",
    "for char in [Wizard1, Archer1]: \n",
    "    char.attack()"
   ]
  },
  {
   "cell_type": "code",
   "execution_count": 5,
   "id": "5a633af9",
   "metadata": {},
   "outputs": [
    {
     "name": "stdout",
     "output_type": "stream",
     "text": [
      "merlin@gmail.com\n"
     ]
    }
   ],
   "source": [
    "class User:\n",
    "    def __init__(self,email):\n",
    "        self.email = email\n",
    "    def sign_in(self):\n",
    "        print('logged in')\n",
    "class Wizard(User):\n",
    "    def __init__(self,name,power,email):\n",
    "        User.__init__(self,email)\n",
    "        self.name = name\n",
    "        self.power = power\n",
    "        \n",
    "    def attack(self):\n",
    "        print(f\"attacking with power of {self.power}\")\n",
    "wizard1 = Wizard('Merlin', 60, 'merlin@gmail.com')\n",
    "print(wizard1.email)"
   ]
  },
  {
   "cell_type": "code",
   "execution_count": 6,
   "id": "44c58eeb",
   "metadata": {},
   "outputs": [
    {
     "name": "stdout",
     "output_type": "stream",
     "text": [
      "merlin@gmail.com\n"
     ]
    }
   ],
   "source": [
    "class User:\n",
    "    def __init__(self,email):\n",
    "        self.email = email\n",
    "    def sign_in(self):\n",
    "        print('logged in')\n",
    "class Wizard(User):\n",
    "    def __init__(self,name,power,email):\n",
    "        super().__init__(email) # alternative way using super keyword\n",
    "        self.name = name\n",
    "        self.power = power\n",
    "        \n",
    "    def attack(self):\n",
    "        print(f\"attacking with power of {self.power}\")\n",
    "wizard1 = Wizard('Merlin', 60, 'merlin@gmail.com')\n",
    "print(wizard1.email)"
   ]
  },
  {
   "cell_type": "code",
   "execution_count": 7,
   "id": "e0acdfdb",
   "metadata": {},
   "outputs": [
    {
     "name": "stdout",
     "output_type": "stream",
     "text": [
      "['__class__', '__delattr__', '__dict__', '__dir__', '__doc__', '__eq__', '__format__', '__ge__', '__getattribute__', '__gt__', '__hash__', '__init__', '__init_subclass__', '__le__', '__lt__', '__module__', '__ne__', '__new__', '__reduce__', '__reduce_ex__', '__repr__', '__setattr__', '__sizeof__', '__str__', '__subclasshook__', '__weakref__', 'attack', 'email', 'name', 'power', 'sign_in']\n"
     ]
    }
   ],
   "source": [
    "# object introspection - The ability to determine the type of object at run time.\n",
    "print(dir(wizard1))"
   ]
  },
  {
   "cell_type": "code",
   "execution_count": 8,
   "id": "1f239b09",
   "metadata": {},
   "outputs": [
    {
     "name": "stdout",
     "output_type": "stream",
     "text": [
      "1000\n"
     ]
    }
   ],
   "source": [
    "class SuperList :\n",
    "    def __len__(self):\n",
    "        return 1000\n",
    "    \n",
    "super_list1 = SuperList()\n",
    "print(len(super_list1))"
   ]
  },
  {
   "cell_type": "code",
   "execution_count": 9,
   "id": "97ca4b19",
   "metadata": {},
   "outputs": [
    {
     "name": "stdout",
     "output_type": "stream",
     "text": [
      "1000\n"
     ]
    },
    {
     "ename": "AttributeError",
     "evalue": "'SuperList' object has no attribute 'append'",
     "output_type": "error",
     "traceback": [
      "\u001b[0;31m---------------------------------------------------------------------------\u001b[0m",
      "\u001b[0;31mAttributeError\u001b[0m                            Traceback (most recent call last)",
      "Input \u001b[0;32mIn [9]\u001b[0m, in \u001b[0;36m<cell line: 7>\u001b[0;34m()\u001b[0m\n\u001b[1;32m      5\u001b[0m super_list1 \u001b[38;5;241m=\u001b[39m SuperList()\n\u001b[1;32m      6\u001b[0m \u001b[38;5;28mprint\u001b[39m(\u001b[38;5;28mlen\u001b[39m(super_list1))\n\u001b[0;32m----> 7\u001b[0m \u001b[43msuper_list1\u001b[49m\u001b[38;5;241;43m.\u001b[39;49m\u001b[43mappend\u001b[49m(\u001b[38;5;241m5\u001b[39m)\n\u001b[1;32m      8\u001b[0m \u001b[38;5;28mprint\u001b[39m(super_list1[\u001b[38;5;241m0\u001b[39m])\n",
      "\u001b[0;31mAttributeError\u001b[0m: 'SuperList' object has no attribute 'append'"
     ]
    }
   ],
   "source": [
    "class SuperList :\n",
    "    def __len__(self):\n",
    "        return 1000\n",
    "    \n",
    "super_list1 = SuperList()\n",
    "print(len(super_list1))\n",
    "super_list1.append(5)\n",
    "print(super_list1[0])\n"
   ]
  },
  {
   "cell_type": "code",
   "execution_count": 10,
   "id": "6a021869",
   "metadata": {},
   "outputs": [
    {
     "name": "stdout",
     "output_type": "stream",
     "text": [
      "1000\n",
      "5\n",
      "True\n"
     ]
    }
   ],
   "source": [
    "class SuperList(list) :\n",
    "    def __len__(self):\n",
    "        return 1000\n",
    "    \n",
    "super_list1 = SuperList()\n",
    "print(len(super_list1))\n",
    "super_list1.append(5)\n",
    "print(super_list1[0])\n",
    "# used the concept of inheritance\n",
    "print(issubclass(SuperList, list))"
   ]
  },
  {
   "cell_type": "code",
   "execution_count": 15,
   "id": "ff695833",
   "metadata": {},
   "outputs": [
    {
     "ename": "TypeError",
     "evalue": "__init__() missing 3 required positional arguments: 'name', 'power', and 'arrows'",
     "output_type": "error",
     "traceback": [
      "\u001b[0;31m---------------------------------------------------------------------------\u001b[0m",
      "\u001b[0;31mTypeError\u001b[0m                                 Traceback (most recent call last)",
      "Input \u001b[0;32mIn [15]\u001b[0m, in \u001b[0;36m<cell line: 28>\u001b[0;34m()\u001b[0m\n\u001b[1;32m     26\u001b[0m         Archer\u001b[38;5;241m.\u001b[39m\u001b[38;5;21m__init__\u001b[39m(\u001b[38;5;28mself\u001b[39m,name,arrows)\n\u001b[1;32m     27\u001b[0m         Wizard\u001b[38;5;241m.\u001b[39m\u001b[38;5;21m__init__\u001b[39m(\u001b[38;5;28mself\u001b[39m,name,power)\n\u001b[0;32m---> 28\u001b[0m hb1 \u001b[38;5;241m=\u001b[39m \u001b[43mHybridBorg\u001b[49m\u001b[43m(\u001b[49m\u001b[43m)\u001b[49m\n\u001b[1;32m     29\u001b[0m \u001b[38;5;28mprint\u001b[39m(hb1\u001b[38;5;241m.\u001b[39mrun())\n",
      "\u001b[0;31mTypeError\u001b[0m: __init__() missing 3 required positional arguments: 'name', 'power', and 'arrows'"
     ]
    }
   ],
   "source": [
    "class User:\n",
    "    def sign_in(self):\n",
    "        print('logged in')\n",
    "        \n",
    "class Wizard(User):\n",
    "    def __init__(self,name,power):\n",
    "        self.name = name\n",
    "        self.power = power\n",
    "        \n",
    "        \n",
    "    def attack(self):\n",
    "        print(f'attacking with power of {self.power}')\n",
    "\n",
    "class Archer(User):\n",
    "    def __init__(self,name,arrows):\n",
    "        self.name = name\n",
    "        self.arrows = arrows\n",
    "        \n",
    "    def check_arrows(self):\n",
    "        print(f'{self.arrows} remaining')\n",
    "    def run(self):\n",
    "        print('ran really fast')\n",
    "\n",
    "class HybridBorg(Wizard, Archer):\n",
    "    def __init__(self,name,power,arrows):\n",
    "        Archer.__init__(self,name,arrows)\n",
    "        Wizard.__init__(self,name,power)\n",
    "hb1 = HybridBorg()\n",
    "print(hb1.run())"
   ]
  },
  {
   "cell_type": "code",
   "execution_count": 16,
   "id": "ad03944c",
   "metadata": {},
   "outputs": [
    {
     "name": "stdout",
     "output_type": "stream",
     "text": [
      "ran really fast\n",
      "None\n"
     ]
    }
   ],
   "source": [
    "hb1 = HybridBorg('borgie', 50, 100)\n",
    "print(hb1.run())"
   ]
  },
  {
   "cell_type": "code",
   "execution_count": 17,
   "id": "196c3e5b",
   "metadata": {},
   "outputs": [
    {
     "name": "stdout",
     "output_type": "stream",
     "text": [
      "100 remaining\n",
      "None\n"
     ]
    }
   ],
   "source": [
    "print(hb1.check_arrows())"
   ]
  },
  {
   "cell_type": "code",
   "execution_count": 19,
   "id": "ab94e62f",
   "metadata": {},
   "outputs": [
    {
     "name": "stdout",
     "output_type": "stream",
     "text": [
      "attacking with power of 50\n",
      "None\n"
     ]
    }
   ],
   "source": [
    "print(hb1.attack())"
   ]
  },
  {
   "cell_type": "code",
   "execution_count": 20,
   "id": "f76a5fa5",
   "metadata": {},
   "outputs": [
    {
     "name": "stdout",
     "output_type": "stream",
     "text": [
      "logged in\n",
      "None\n"
     ]
    }
   ],
   "source": [
    "print(hb1.sign_in())"
   ]
  },
  {
   "cell_type": "code",
   "execution_count": null,
   "id": "c19d2b0b",
   "metadata": {},
   "outputs": [],
   "source": []
  }
 ],
 "metadata": {
  "kernelspec": {
   "display_name": "Python 3 (ipykernel)",
   "language": "python",
   "name": "python3"
  },
  "language_info": {
   "codemirror_mode": {
    "name": "ipython",
    "version": 3
   },
   "file_extension": ".py",
   "mimetype": "text/x-python",
   "name": "python",
   "nbconvert_exporter": "python",
   "pygments_lexer": "ipython3",
   "version": "3.9.12"
  }
 },
 "nbformat": 4,
 "nbformat_minor": 5
}
