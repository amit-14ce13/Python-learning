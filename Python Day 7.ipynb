{
 "cells": [
  {
   "cell_type": "code",
   "execution_count": 1,
   "id": "ee9ab3cf",
   "metadata": {},
   "outputs": [],
   "source": [
    "# Polymorphism refers to the ways objects,classes can share the same method name but those methods but\n",
    "# these methods name can act differently based on what objects calls it."
   ]
  },
  {
   "cell_type": "code",
   "execution_count": 3,
   "id": "e42747e2",
   "metadata": {},
   "outputs": [
    {
     "name": "stdout",
     "output_type": "stream",
     "text": [
      "attacking with power of 50\n",
      "attacking with arrows : arrows left - 100\n"
     ]
    }
   ],
   "source": [
    "class User:\n",
    "    def sign_in(self):\n",
    "        print('logged in')\n",
    "        \n",
    "class Wizard(User):\n",
    "    def __init__(self,name,power):\n",
    "        self.name = name\n",
    "        self.power = power\n",
    "        \n",
    "    def attack(self):\n",
    "        print(f'attacking with power of {self.power}')\n",
    "\n",
    "class Archer(User):\n",
    "    def __init__(self,name,num_arrows): # both classes Wizard and Archer have used attack method but it acts\n",
    "        self.name = name                # differently for both.\n",
    "        self.num_arrows = num_arrows\n",
    "        \n",
    "    def attack(self):\n",
    "        print(f'attacking with arrows : arrows left - {self.num_arrows}')\n",
    "Wizard1 = Wizard('Merlin', 50)\n",
    "Archer1 = Archer('Navin', 100)\n",
    "def player_attack(char):\n",
    "    char.attack()\n",
    "player_attack(Wizard1)\n",
    "player_attack(Archer1)"
   ]
  },
  {
   "cell_type": "code",
   "execution_count": 4,
   "id": "ab0342e8",
   "metadata": {},
   "outputs": [
    {
     "name": "stdout",
     "output_type": "stream",
     "text": [
      "attacking with power of 50\n",
      "attacking with arrows : arrows left - 100\n"
     ]
    }
   ],
   "source": [
    "class User:\n",
    "    def sign_in(self):\n",
    "        print('logged in')\n",
    "        \n",
    "class Wizard(User):\n",
    "    def __init__(self,name,power):\n",
    "        self.name = name\n",
    "        self.power = power\n",
    "        \n",
    "    def attack(self):\n",
    "        print(f'attacking with power of {self.power}')\n",
    "\n",
    "class Archer(User):\n",
    "    def __init__(self,name,num_arrows): # both classes Wizard and Archer have used attack method but it acts\n",
    "        self.name = name                # differently for both.\n",
    "        self.num_arrows = num_arrows\n",
    "        \n",
    "    def attack(self):\n",
    "        print(f'attacking with arrows : arrows left - {self.num_arrows}')\n",
    "Wizard1 = Wizard('Merlin', 50)\n",
    "Archer1 = Archer('Navin', 100)\n",
    "for char in [Wizard1, Archer1]: # alternative way\n",
    "    char.attack()    "
   ]
  },
  {
   "cell_type": "code",
   "execution_count": 6,
   "id": "528d9403",
   "metadata": {},
   "outputs": [
    {
     "name": "stdout",
     "output_type": "stream",
     "text": [
      "do nothing\n",
      "attacking with power of 50\n",
      "attacking with arrows : arrows left - 100\n"
     ]
    }
   ],
   "source": [
    "class User:\n",
    "    def sign_in(self):\n",
    "        print('logged in')\n",
    "    def attack(self):\n",
    "        print('do nothing')\n",
    "        \n",
    "class Wizard(User):\n",
    "    def __init__(self,name,power):\n",
    "        self.name = name\n",
    "        self.power = power\n",
    "        \n",
    "    def attack(self):\n",
    "        User.attack(self)\n",
    "        print(f'attacking with power of {self.power}')\n",
    "\n",
    "class Archer(User):\n",
    "    def __init__(self,name,num_arrows): \n",
    "        self.name = name            \n",
    "        self.num_arrows = num_arrows\n",
    "        \n",
    "    def attack(self):\n",
    "        print(f'attacking with arrows : arrows left - {self.num_arrows}')\n",
    "Wizard1 = Wizard('Merlin', 50)\n",
    "Archer1 = Archer('Navin', 100)\n",
    "for char in [Wizard1, Archer1]: \n",
    "    char.attack()"
   ]
  },
  {
   "cell_type": "code",
   "execution_count": 7,
   "id": "229a2b7f",
   "metadata": {},
   "outputs": [
    {
     "name": "stdout",
     "output_type": "stream",
     "text": [
      "merlin@gmail.com\n"
     ]
    }
   ],
   "source": [
    "class User:\n",
    "    def __init__(self,email):\n",
    "        self.email = email\n",
    "    def sign_in(self):\n",
    "        print('logged in')\n",
    "class Wizard(User):\n",
    "    def __init__(self,name,power,email):\n",
    "        User.__init__(self,email)\n",
    "        self.name = name\n",
    "        self.power = power\n",
    "        \n",
    "    def attack(self):\n",
    "        print(f\"attacking with power of {self.power}\")\n",
    "wizard1 = Wizard('Merlin', 60, 'merlin@gmail.com')\n",
    "print(wizard1.email)"
   ]
  },
  {
   "cell_type": "code",
   "execution_count": 8,
   "id": "58368474",
   "metadata": {},
   "outputs": [
    {
     "name": "stdout",
     "output_type": "stream",
     "text": [
      "merlin@gmail.com\n"
     ]
    }
   ],
   "source": [
    "class User:\n",
    "    def __init__(self,email):\n",
    "        self.email = email\n",
    "    def sign_in(self):\n",
    "        print('logged in')\n",
    "class Wizard(User):\n",
    "    def __init__(self,name,power,email):\n",
    "        super().__init__(email) # alternative way using super keyword\n",
    "        self.name = name\n",
    "        self.power = power\n",
    "        \n",
    "    def attack(self):\n",
    "        print(f\"attacking with power of {self.power}\")\n",
    "wizard1 = Wizard('Merlin', 60, 'merlin@gmail.com')\n",
    "print(wizard1.email)"
   ]
  },
  {
   "cell_type": "code",
   "execution_count": 9,
   "id": "239feed4",
   "metadata": {},
   "outputs": [
    {
     "name": "stdout",
     "output_type": "stream",
     "text": [
      "['__class__', '__delattr__', '__dict__', '__dir__', '__doc__', '__eq__', '__format__', '__ge__', '__getattribute__', '__gt__', '__hash__', '__init__', '__init_subclass__', '__le__', '__lt__', '__module__', '__ne__', '__new__', '__reduce__', '__reduce_ex__', '__repr__', '__setattr__', '__sizeof__', '__str__', '__subclasshook__', '__weakref__', 'attack', 'email', 'name', 'power', 'sign_in']\n"
     ]
    }
   ],
   "source": [
    "# object introspection - The ability to determine the type \n",
    "print(dir(wizard1))"
   ]
  },
  {
   "cell_type": "code",
   "execution_count": null,
   "id": "3a5bd3e8",
   "metadata": {},
   "outputs": [],
   "source": []
  }
 ],
 "metadata": {
  "kernelspec": {
   "display_name": "Python 3 (ipykernel)",
   "language": "python",
   "name": "python3"
  },
  "language_info": {
   "codemirror_mode": {
    "name": "ipython",
    "version": 3
   },
   "file_extension": ".py",
   "mimetype": "text/x-python",
   "name": "python",
   "nbconvert_exporter": "python",
   "pygments_lexer": "ipython3",
   "version": "3.9.12"
  }
 },
 "nbformat": 4,
 "nbformat_minor": 5
}
