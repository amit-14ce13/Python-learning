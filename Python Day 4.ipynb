{
 "cells": [
  {
   "cell_type": "code",
   "execution_count": 2,
   "id": "efa65beb",
   "metadata": {},
   "outputs": [],
   "source": [
    "# Day4 part1 python learning.\n",
    "\n",
    "#Exercise 1: Calculate the multiplication and sum of two numbers\n",
    "#Given two integer numbers return their product only if the product is equal to or lower than 1000, else return their sum.\n",
    "#Given 1:\n",
    "#number1 = 20\n",
    "#number2 = 30\n",
    "#Expected Output:\n",
    "\n",
    "#The result is 600\n",
    "\n",
    "#Given 2:\n",
    "\n",
    "#number1 = 40\n",
    "#number2 = 30\n",
    "#Expected Output:\n",
    "\n",
    "#The result is 70#"
   ]
  },
  {
   "cell_type": "code",
   "execution_count": 7,
   "id": "77ce35ad",
   "metadata": {},
   "outputs": [
    {
     "name": "stdout",
     "output_type": "stream",
     "text": [
      "The result is 600\n",
      "The result is 70\n"
     ]
    }
   ],
   "source": [
    "# breaking the flow,conditional ogic,indentation in python\n",
    "def multiplication_or_sum(num1,num2):\n",
    "#calculate product of two numbers\n",
    "   product = num1*num2\n",
    "# To check if procduct is less than 1000\n",
    "   if product <= 1000:\n",
    "      return product\n",
    "   else:\n",
    "    # product exceeds 1000 so sum\n",
    "      return num1+num2\n",
    "#first test case\n",
    "result = multiplication_or_sum(20,30)\n",
    "print(\"The result is\", result)\n",
    "#second test case\n",
    "result = multiplication_or_sum(40,30)\n",
    "print(\"The result is\", result)"
   ]
  },
  {
   "cell_type": "code",
   "execution_count": 10,
   "id": "396b660e",
   "metadata": {},
   "outputs": [
    {
     "name": "stdout",
     "output_type": "stream",
     "text": [
      "True\n",
      "True\n",
      "you are old enough to drive and you have a license!\n"
     ]
    }
   ],
   "source": [
    "#Truthy vs falsy\n",
    "is_old = \"Hello\"\n",
    "is_licensed = 5\n",
    "print(bool('Hello'))\n",
    "print(bool(5))\n",
    "if is_old and is_licensed:\n",
    "    print('you are old enough to drive and you have a license!')\n",
    "else:\n",
    "    print(\"you are not eligible to drive\")"
   ]
  },
  {
   "cell_type": "code",
   "execution_count": 12,
   "id": "0c830142",
   "metadata": {},
   "outputs": [
    {
     "name": "stdout",
     "output_type": "stream",
     "text": [
      "False\n",
      "True\n",
      "you are not eligible to drive\n"
     ]
    }
   ],
   "source": [
    "#Truthy vs falsy\n",
    "is_old = \"\"\n",
    "is_licensed = 5\n",
    "print(bool(''))\n",
    "print(bool(5))\n",
    "if is_old and is_licensed:\n",
    "    print('you are old enough to drive and you have a license!')\n",
    "else:\n",
    "    print(\"you are not eligible to drive\")"
   ]
  },
  {
   "cell_type": "code",
   "execution_count": 14,
   "id": "4daa1725",
   "metadata": {},
   "outputs": [
    {
     "name": "stdout",
     "output_type": "stream",
     "text": [
      "not allowed to message\n"
     ]
    }
   ],
   "source": [
    "#Ternary operator\n",
    "#condition_if_true if condition else condition_if_false\n",
    "is_friend = False\n",
    "can_message = \"message allowed\" if is_friend else \"not allowed to message\"\n",
    "print(can_message)"
   ]
  },
  {
   "cell_type": "code",
   "execution_count": 15,
   "id": "7a07075b",
   "metadata": {},
   "outputs": [
    {
     "name": "stdout",
     "output_type": "stream",
     "text": [
      "best friends\n"
     ]
    }
   ],
   "source": [
    "#Short circuting\n",
    "is_friend = True\n",
    "is_user = True\n",
    "if is_friend or is_user:# later after or is not checked here as it is not required thus short-circuted.\n",
    "    print('best friends')\n",
    "    \n"
   ]
  },
  {
   "cell_type": "code",
   "execution_count": 18,
   "id": "79589d60",
   "metadata": {},
   "outputs": [
    {
     "data": {
      "text/plain": [
       "False"
      ]
     },
     "execution_count": 18,
     "metadata": {},
     "output_type": "execute_result"
    }
   ],
   "source": [
    "# Day4 part 2 python learning\n",
    "\n",
    "number1 = 5\n",
    "number2 = 6\n",
    "number3 = 7\n",
    "((number1>number2)and(number1>number3) ) #Logical operator"
   ]
  },
  {
   "cell_type": "code",
   "execution_count": 19,
   "id": "c0a9eb27",
   "metadata": {},
   "outputs": [
    {
     "data": {
      "text/plain": [
       "False"
      ]
     },
     "execution_count": 19,
     "metadata": {},
     "output_type": "execute_result"
    }
   ],
   "source": [
    "not(number1<number2)"
   ]
  },
  {
   "cell_type": "code",
   "execution_count": 21,
   "id": "36aa1f20",
   "metadata": {},
   "outputs": [
    {
     "name": "stdout",
     "output_type": "stream",
     "text": [
      "True\n"
     ]
    }
   ],
   "source": [
    "lst1 = [1,2,3,4,5]\n",
    "lst2 = [1,2,3,4,5]\n",
    "if lst1 == lst2:\n",
    "    print(True)\n",
    "else:\n",
    "    print(False)"
   ]
  },
  {
   "cell_type": "code",
   "execution_count": 23,
   "id": "7a222c5f",
   "metadata": {},
   "outputs": [
    {
     "name": "stdout",
     "output_type": "stream",
     "text": [
      "False\n"
     ]
    }
   ],
   "source": [
    "# '==' versus 'is'\n",
    "lst1 = [1,2,3,4,5]\n",
    "lst2 = [1,2,3,4,5]\n",
    "if lst1 is lst2:\n",
    "    print(True)\n",
    "else:\n",
    "    print(False)#Address of both list is different"
   ]
  },
  {
   "cell_type": "code",
   "execution_count": 24,
   "id": "37251c9b",
   "metadata": {},
   "outputs": [
    {
     "name": "stdout",
     "output_type": "stream",
     "text": [
      "True\n"
     ]
    }
   ],
   "source": [
    "lst1 = [1,2,3,4,5]\n",
    "lst2 = lst1\n",
    "if lst1 is lst2:\n",
    "    print(True)\n",
    "else:\n",
    "    print(False)"
   ]
  },
  {
   "cell_type": "code",
   "execution_count": 26,
   "id": "602a2816",
   "metadata": {},
   "outputs": [
    {
     "name": "stdout",
     "output_type": "stream",
     "text": [
      "139956881532544\n",
      "139956881532544\n"
     ]
    }
   ],
   "source": [
    "lst1 = [1,2,3,4,5]\n",
    "lst2 = lst1\n",
    "print(id(lst1))\n",
    "print(id(lst2))"
   ]
  },
  {
   "cell_type": "code",
   "execution_count": 27,
   "id": "53452e26",
   "metadata": {},
   "outputs": [
    {
     "name": "stdout",
     "output_type": "stream",
     "text": [
      "Z\n",
      "e\n",
      "r\n",
      "o\n",
      " \n",
      "t\n",
      "o\n",
      " \n",
      "M\n",
      "a\n",
      "s\n",
      "t\n",
      "e\n",
      "r\n",
      "y\n"
     ]
    }
   ],
   "source": [
    "#for loop, Iterables\n",
    "\n",
    "for item in 'Zero to Mastery':\n",
    "    print(item)"
   ]
  },
  {
   "cell_type": "code",
   "execution_count": 28,
   "id": "c1674d23",
   "metadata": {},
   "outputs": [
    {
     "name": "stdout",
     "output_type": "stream",
     "text": [
      "1\n",
      "2\n",
      "3\n",
      "4\n",
      "5\n"
     ]
    }
   ],
   "source": [
    "for item in [1,2,3,4,5]:\n",
    "    print(item)"
   ]
  },
  {
   "cell_type": "code",
   "execution_count": 29,
   "id": "646ef120",
   "metadata": {},
   "outputs": [
    {
     "name": "stdout",
     "output_type": "stream",
     "text": [
      "1 a\n",
      "1 b\n",
      "1 c\n",
      "2 a\n",
      "2 b\n",
      "2 c\n",
      "3 a\n",
      "3 b\n",
      "3 c\n",
      "4 a\n",
      "4 b\n",
      "4 c\n",
      "5 a\n",
      "5 b\n",
      "5 c\n"
     ]
    }
   ],
   "source": [
    "for item in (1,2,3,4,5):\n",
    "    for sub_item in ['a','b','c']:\n",
    "        print(item,sub_item)"
   ]
  },
  {
   "cell_type": "markdown",
   "id": "f7cbff7f",
   "metadata": {},
   "source": []
  },
  {
   "cell_type": "code",
   "execution_count": 30,
   "id": "ac7b528e",
   "metadata": {},
   "outputs": [
    {
     "name": "stdout",
     "output_type": "stream",
     "text": [
      "name\n",
      "age\n",
      "can_swim\n"
     ]
    }
   ],
   "source": [
    "user = {'name': 'Amit', \n",
    "        'age':25, \n",
    "        'can_swim': False\n",
    "    }\n",
    "for item in user:\n",
    "    print(item)"
   ]
  },
  {
   "cell_type": "code",
   "execution_count": 31,
   "id": "2e29f6a5",
   "metadata": {},
   "outputs": [
    {
     "name": "stdout",
     "output_type": "stream",
     "text": [
      "('name', 'Amit')\n",
      "('age', 25)\n",
      "('can_swim', False)\n"
     ]
    }
   ],
   "source": [
    "user = {'name': 'Amit', \n",
    "        'age':25, \n",
    "        'can_swim': False\n",
    "    }\n",
    "for item in user.items():\n",
    "    print(item)"
   ]
  },
  {
   "cell_type": "code",
   "execution_count": 32,
   "id": "5242d2e9",
   "metadata": {},
   "outputs": [
    {
     "name": "stdout",
     "output_type": "stream",
     "text": [
      "Amit\n",
      "25\n",
      "False\n"
     ]
    }
   ],
   "source": [
    "for item in user.values():\n",
    "    print(item)"
   ]
  },
  {
   "cell_type": "code",
   "execution_count": 33,
   "id": "2ef916ed",
   "metadata": {},
   "outputs": [
    {
     "name": "stdout",
     "output_type": "stream",
     "text": [
      "name\n",
      "age\n",
      "can_swim\n"
     ]
    }
   ],
   "source": [
    "for item in user.keys():\n",
    "    print(item)"
   ]
  },
  {
   "cell_type": "code",
   "execution_count": 34,
   "id": "9660dbae",
   "metadata": {},
   "outputs": [
    {
     "name": "stdout",
     "output_type": "stream",
     "text": [
      "name Amit\n",
      "age 25\n",
      "can_swim False\n"
     ]
    }
   ],
   "source": [
    "for key, value in user.items():\n",
    "    print(key, value)"
   ]
  },
  {
   "cell_type": "code",
   "execution_count": 35,
   "id": "ee726f1c",
   "metadata": {},
   "outputs": [
    {
     "name": "stdout",
     "output_type": "stream",
     "text": [
      "55\n"
     ]
    }
   ],
   "source": [
    "#counter\n",
    "my_list = [1,2,3,4,5,6,7,8,9,10]\n",
    "counter = 0\n",
    "for item in my_list:\n",
    "    counter = counter+item\n",
    "    \n",
    "print(counter)"
   ]
  },
  {
   "cell_type": "code",
   "execution_count": 36,
   "id": "730f37dc",
   "metadata": {},
   "outputs": [
    {
     "name": "stdout",
     "output_type": "stream",
     "text": [
      "0\n",
      "1\n",
      "2\n",
      "3\n",
      "4\n",
      "5\n",
      "6\n",
      "7\n",
      "8\n",
      "9\n"
     ]
    }
   ],
   "source": [
    "#range\n",
    "for number in range(0,10):\n",
    "    print(number)"
   ]
  },
  {
   "cell_type": "code",
   "execution_count": 37,
   "id": "bb56672a",
   "metadata": {},
   "outputs": [
    {
     "name": "stdout",
     "output_type": "stream",
     "text": [
      "10\n",
      "8\n",
      "6\n",
      "4\n",
      "2\n"
     ]
    }
   ],
   "source": [
    "for descendingnum in range(10,0,-2):\n",
    "    print(descendingnum)"
   ]
  },
  {
   "cell_type": "code",
   "execution_count": 38,
   "id": "e41ef99c",
   "metadata": {},
   "outputs": [
    {
     "name": "stdout",
     "output_type": "stream",
     "text": [
      "[0, 1, 2, 3, 4, 5, 6, 7, 8, 9]\n"
     ]
    }
   ],
   "source": [
    "print(list(range(10)))"
   ]
  },
  {
   "cell_type": "code",
   "execution_count": 39,
   "id": "fbe29e51",
   "metadata": {},
   "outputs": [
    {
     "name": "stdout",
     "output_type": "stream",
     "text": [
      "0 h\n",
      "1 e\n",
      "2 l\n",
      "3 l\n",
      "4 o\n",
      "5 o\n"
     ]
    }
   ],
   "source": [
    "#enumerate\n",
    "for indx,char in enumerate('helloo'):\n",
    "    print(indx,char)"
   ]
  },
  {
   "cell_type": "code",
   "execution_count": 41,
   "id": "21e56838",
   "metadata": {},
   "outputs": [
    {
     "name": "stdout",
     "output_type": "stream",
     "text": [
      "index of 50 is: 50\n"
     ]
    }
   ],
   "source": [
    "for indx,char in enumerate(list(range(100))):\n",
    "    if char == 50:\n",
    "        print(f 'index of 50 is: {indx}')"
   ]
  },
  {
   "cell_type": "code",
   "execution_count": 42,
   "id": "3db75d93",
   "metadata": {},
   "outputs": [
    {
     "name": "stdout",
     "output_type": "stream",
     "text": [
      "1 \n",
      "1 2 \n",
      "1 2 3 \n",
      "1 2 3 4 \n",
      "1 2 3 4 5 \n"
     ]
    }
   ],
   "source": [
    "#Number Pattern \n",
    "#1 \n",
    "#1 2 \n",
    "#1 2 3 \n",
    "#1 2 3 4 \n",
    "#1 2 3 4 5 \n",
    "\n",
    "\n",
    "#Decide the no. of rows (above pattern contains 5 rows)\n",
    "row = 5\n",
    "#start :1, stop :row+1, #step size : 1\n",
    "# loop run 5 times\n",
    "for line in range( 1, row+1, 1):\n",
    "    #run inner loop line+1 times\n",
    "    for num in range(1, line+1):\n",
    "        print(num, end= ' ')\n",
    "    #empty line after each row\n",
    "    print(\"\")"
   ]
  },
  {
   "cell_type": "code",
   "execution_count": 44,
   "id": "baf4015f",
   "metadata": {},
   "outputs": [
    {
     "name": "stdout",
     "output_type": "stream",
     "text": [
      "0\n",
      "1\n",
      "2\n",
      "3\n",
      "4\n",
      "5\n",
      "6\n",
      "7\n",
      "8\n",
      "9\n"
     ]
    }
   ],
   "source": [
    "#while loop\n",
    "\n",
    "i = 0\n",
    "while i<10:\n",
    "    print(i)\n",
    "    i+= 1"
   ]
  },
  {
   "cell_type": "code",
   "execution_count": 45,
   "id": "f56eebbf",
   "metadata": {},
   "outputs": [
    {
     "name": "stdout",
     "output_type": "stream",
     "text": [
      "0\n",
      "1\n",
      "2\n",
      "3\n",
      "4\n",
      "5\n",
      "6\n",
      "7\n",
      "8\n",
      "9\n",
      "done with all the work\n"
     ]
    }
   ],
   "source": [
    "i = 0\n",
    "while i<10:\n",
    "    print(i)\n",
    "    i+= 1\n",
    "else:\n",
    "    print(\"done with all the work\") # It doesnot seem useful here but will appear when a break statement is used."
   ]
  },
  {
   "cell_type": "code",
   "execution_count": 46,
   "id": "93fc7794",
   "metadata": {},
   "outputs": [
    {
     "name": "stdout",
     "output_type": "stream",
     "text": [
      "0\n"
     ]
    }
   ],
   "source": [
    "i = 0\n",
    "while i<10:\n",
    "    print(i)\n",
    "    i+= 1\n",
    "    break\n",
    "else:\n",
    "    print(\"done with all the work\") # break considers else as block of while loop"
   ]
  },
  {
   "cell_type": "code",
   "execution_count": 47,
   "id": "8daa264d",
   "metadata": {},
   "outputs": [
    {
     "name": "stdout",
     "output_type": "stream",
     "text": [
      "say something: hi\n",
      "say something: hello\n",
      "say something: bye\n"
     ]
    }
   ],
   "source": [
    "while True:\n",
    "    response = input(\"say something: \")\n",
    "    if (response == \"bye\"):\n",
    "        break"
   ]
  },
  {
   "cell_type": "code",
   "execution_count": 48,
   "id": "cfb3bd83",
   "metadata": {},
   "outputs": [
    {
     "name": "stdout",
     "output_type": "stream",
     "text": [
      "75869\n",
      "Total digits are: 5\n"
     ]
    }
   ],
   "source": [
    "#Write a program to count the total number of digits in a number using a while loop.\n",
    "#For example, the number is 75869, so the output should be 5.\n",
    "\n",
    "num = int(input())\n",
    "count = 0\n",
    "while num != 0:\n",
    "    #floor division\n",
    "    # to reduce the last digt from number\n",
    "    num = num//10\n",
    "    # increment count by 1\n",
    "    count += 1\n",
    "print(\"Total digits are:\", count)"
   ]
  },
  {
   "cell_type": "code",
   "execution_count": 54,
   "id": "c3485576",
   "metadata": {},
   "outputs": [
    {
     "name": "stdout",
     "output_type": "stream",
     "text": [
      "54\n"
     ]
    }
   ],
   "source": [
    "num1 = 546\n",
    "num1 = num1//10\n",
    "print(num1)"
   ]
  },
  {
   "cell_type": "code",
   "execution_count": 51,
   "id": "d669e9db",
   "metadata": {},
   "outputs": [
    {
     "name": "stdout",
     "output_type": "stream",
     "text": [
      "54.6\n"
     ]
    }
   ],
   "source": [
    "num2 =546/10\n",
    "print(num2)"
   ]
  },
  {
   "cell_type": "code",
   "execution_count": 52,
   "id": "47d3cb13",
   "metadata": {},
   "outputs": [
    {
     "data": {
      "text/plain": [
       "5"
      ]
     },
     "execution_count": 52,
     "metadata": {},
     "output_type": "execute_result"
    }
   ],
   "source": [
    "num3 = 45//9\n",
    "num3"
   ]
  },
  {
   "cell_type": "code",
   "execution_count": 53,
   "id": "41484931",
   "metadata": {},
   "outputs": [
    {
     "data": {
      "text/plain": [
       "7"
      ]
     },
     "execution_count": 53,
     "metadata": {},
     "output_type": "execute_result"
    }
   ],
   "source": [
    "num4 = 54//7\n",
    "num4"
   ]
  },
  {
   "cell_type": "code",
   "execution_count": null,
   "id": "2d4d3d8b",
   "metadata": {},
   "outputs": [],
   "source": []
  }
 ],
 "metadata": {
  "kernelspec": {
   "display_name": "Python 3 (ipykernel)",
   "language": "python",
   "name": "python3"
  },
  "language_info": {
   "codemirror_mode": {
    "name": "ipython",
    "version": 3
   },
   "file_extension": ".py",
   "mimetype": "text/x-python",
   "name": "python",
   "nbconvert_exporter": "python",
   "pygments_lexer": "ipython3",
   "version": "3.9.12"
  }
 },
 "nbformat": 4,
 "nbformat_minor": 5
}
