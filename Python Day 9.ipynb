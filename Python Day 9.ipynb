{
 "cells": [
  {
   "cell_type": "code",
   "execution_count": 1,
   "id": "2f93b0ec",
   "metadata": {},
   "outputs": [
    {
     "name": "stdout",
     "output_type": "stream",
     "text": [
      "Something is happening before the function is called.\n",
      "Whee!\n",
      "Something is happening after the function is called.\n"
     ]
    }
   ],
   "source": [
    "def my_decorator(func):\n",
    "    def wrapper():\n",
    "        print(\"Something is happening before the function is called.\")\n",
    "        func()\n",
    "        print(\"Something is happening after the function is called.\")\n",
    "    return wrapper\n",
    "\n",
    "def say_whee():\n",
    "    print(\"Whee!\")\n",
    "\n",
    "say_whee = my_decorator(say_whee)\n",
    "say_whee()"
   ]
  },
  {
   "cell_type": "code",
   "execution_count": 3,
   "id": "d9ec46ca",
   "metadata": {},
   "outputs": [
    {
     "data": {
      "text/plain": [
       "<function __main__.my_decorator.<locals>.wrapper()>"
      ]
     },
     "execution_count": 3,
     "metadata": {},
     "output_type": "execute_result"
    }
   ],
   "source": [
    "say_whee = my_decorator(say_whee)\n",
    "say_whee"
   ]
  },
  {
   "cell_type": "code",
   "execution_count": 4,
   "id": "9909c5bd",
   "metadata": {},
   "outputs": [
    {
     "name": "stdout",
     "output_type": "stream",
     "text": [
      "Whee!\n"
     ]
    }
   ],
   "source": [
    "from datetime import datetime\n",
    "\n",
    "def not_during_the_night(func):\n",
    "    def wrapper():\n",
    "        if 7 <= datetime.now().hour < 22:\n",
    "            func()\n",
    "        else:\n",
    "            pass  # Hush, the neighbors are asleep\n",
    "    return wrapper\n",
    "\n",
    "def say_whee():\n",
    "    print(\"Whee!\")\n",
    "\n",
    "say_whee = not_during_the_night(say_whee)\n",
    "say_whee()"
   ]
  },
  {
   "cell_type": "code",
   "execution_count": 5,
   "id": "683e55df",
   "metadata": {},
   "outputs": [],
   "source": [
    "def my_decorator(func):\n",
    "    def wrapper():\n",
    "        print(\"Something is happening before the function is called.\")\n",
    "        func()\n",
    "        print(\"Something is happening after the function is called.\")\n",
    "    return wrapper\n",
    "\n",
    "@my_decorator\n",
    "def say_whee():\n",
    "    print(\"Whee!\") # facing trouble here in understanding"
   ]
  },
  {
   "cell_type": "code",
   "execution_count": 5,
   "id": "ae84ab63",
   "metadata": {},
   "outputs": [
    {
     "name": "stdout",
     "output_type": "stream",
     "text": [
      "25\n"
     ]
    }
   ],
   "source": [
    " \n",
    "def create_adder(x):  # ask from sir how x and y values were taiken.\n",
    "    def adder(y): \n",
    "        return x+y\n",
    "    \n",
    "    \n",
    "    return adder \n",
    "    \n",
    "add_15 = create_adder(15) \n",
    "    \n",
    "print(add_15(10))"
   ]
  },
  {
   "cell_type": "code",
   "execution_count": 9,
   "id": "a3e90570",
   "metadata": {},
   "outputs": [
    {
     "name": "stdout",
     "output_type": "stream",
     "text": [
      "2.0\n"
     ]
    }
   ],
   "source": [
    "def div(num1,num2):\n",
    "    print(num1/num2)\n",
    "\n",
    "def smart_div(func):\n",
    "    \n",
    "    def inner(num1,num2):\n",
    "        if num1<num2:\n",
    "            num1, num2= num2, num1\n",
    "            return func(num1,num2)\n",
    "    return inner\n",
    "\n",
    "div = smart_div(div)\n",
    "div(2,4)"
   ]
  },
  {
   "cell_type": "code",
   "execution_count": 12,
   "id": "e22ceb8b",
   "metadata": {},
   "outputs": [
    {
     "data": {
      "text/plain": [
       "'Hello Bob'"
      ]
     },
     "execution_count": 12,
     "metadata": {},
     "output_type": "execute_result"
    }
   ],
   "source": [
    "def say_hello(name):\n",
    "    return f\"Hello {name}\"\n",
    "\n",
    "def greet_bob(greeter_func):\n",
    "    return greeter_func(\"Bob\")\n",
    "greet_bob(say_hello)"
   ]
  },
  {
   "cell_type": "code",
   "execution_count": 16,
   "id": "f66221c2",
   "metadata": {},
   "outputs": [
    {
     "name": "stdout",
     "output_type": "stream",
     "text": [
      "printing from the parent() function\n",
      "printing from the second_chld() function\n",
      "printing from the first_child() function\n"
     ]
    }
   ],
   "source": [
    "def parent():\n",
    "    print(\"printing from the parent() function\")\n",
    "    \n",
    "    def first_child():\n",
    "        print(\"printing from the first_child() function\")\n",
    "        \n",
    "    def second_child():\n",
    "        print(\"printing from the second_chld() function\")\n",
    "        \n",
    "    second_child()\n",
    "    first_child()\n",
    "    \n",
    "    \n",
    "parent()"
   ]
  },
  {
   "cell_type": "code",
   "execution_count": 20,
   "id": "7fbaefa5",
   "metadata": {},
   "outputs": [
    {
     "name": "stdout",
     "output_type": "stream",
     "text": [
      "<function parent.<locals>.first_child at 0x7f22ee4453a0>\n",
      "<function parent.<locals>.second_child at 0x7f22ee4e0dc0>\n"
     ]
    }
   ],
   "source": [
    "def parent(num):\n",
    "    def first_child():\n",
    "        return \"Hi, I am Emma\"\n",
    "    \n",
    "    def second_child():\n",
    "        return \"Call me Liam\"\n",
    "    \n",
    "    if num == 1:\n",
    "        return first_child\n",
    "    else:\n",
    "        return second_child\n",
    "    \n",
    "first = parent(1)\n",
    "second = parent(2)\n",
    "\n",
    "print(first)\n",
    "print(second)"
   ]
  },
  {
   "cell_type": "code",
   "execution_count": 21,
   "id": "c0c2905a",
   "metadata": {},
   "outputs": [
    {
     "data": {
      "text/plain": [
       "'Hi, I am Emma'"
      ]
     },
     "execution_count": 21,
     "metadata": {},
     "output_type": "execute_result"
    }
   ],
   "source": [
    "first()"
   ]
  },
  {
   "cell_type": "code",
   "execution_count": 22,
   "id": "60357780",
   "metadata": {},
   "outputs": [
    {
     "data": {
      "text/plain": [
       "'Call me Liam'"
      ]
     },
     "execution_count": 22,
     "metadata": {},
     "output_type": "execute_result"
    }
   ],
   "source": [
    "second()"
   ]
  },
  {
   "cell_type": "code",
   "execution_count": null,
   "id": "d0f5cad2",
   "metadata": {},
   "outputs": [],
   "source": []
  }
 ],
 "metadata": {
  "kernelspec": {
   "display_name": "Python 3 (ipykernel)",
   "language": "python",
   "name": "python3"
  },
  "language_info": {
   "codemirror_mode": {
    "name": "ipython",
    "version": 3
   },
   "file_extension": ".py",
   "mimetype": "text/x-python",
   "name": "python",
   "nbconvert_exporter": "python",
   "pygments_lexer": "ipython3",
   "version": "3.9.12"
  }
 },
 "nbformat": 4,
 "nbformat_minor": 5
}
