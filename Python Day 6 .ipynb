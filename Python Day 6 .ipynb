{
 "cells": [
  {
   "cell_type": "code",
   "execution_count": 2,
   "id": "64439af7",
   "metadata": {},
   "outputs": [
    {
     "ename": "TypeError",
     "evalue": "__init__() missing 1 required positional argument: 'name'",
     "output_type": "error",
     "traceback": [
      "\u001b[0;31m---------------------------------------------------------------------------\u001b[0m",
      "\u001b[0;31mTypeError\u001b[0m                                 Traceback (most recent call last)",
      "Input \u001b[0;32mIn [2]\u001b[0m, in \u001b[0;36m<cell line: 10>\u001b[0;34m()\u001b[0m\n\u001b[1;32m      7\u001b[0m     \u001b[38;5;28;01mdef\u001b[39;00m \u001b[38;5;21mrun\u001b[39m(\u001b[38;5;28mself\u001b[39m):\n\u001b[1;32m      8\u001b[0m         \u001b[38;5;28mprint\u001b[39m(run)\n\u001b[0;32m---> 10\u001b[0m player1 \u001b[38;5;241m=\u001b[39m \u001b[43mPlayercharacter\u001b[49m\u001b[43m(\u001b[49m\u001b[43m)\u001b[49m\n\u001b[1;32m     12\u001b[0m \u001b[38;5;28mprint\u001b[39m(player1)\n",
      "\u001b[0;31mTypeError\u001b[0m: __init__() missing 1 required positional argument: 'name'"
     ]
    }
   ],
   "source": [
    "# OOPS\n",
    "\n",
    "class Playercharacter:\n",
    "    def __init__(self, name):\n",
    "        self.name = name\n",
    "        \n",
    "    def run(self):\n",
    "        print(run)\n",
    "        \n",
    "player1 = Playercharacter()\n",
    "\n",
    "print(player1) # positiona argument was not given"
   ]
  },
  {
   "cell_type": "code",
   "execution_count": 3,
   "id": "7316e3bb",
   "metadata": {},
   "outputs": [
    {
     "name": "stdout",
     "output_type": "stream",
     "text": [
      "<__main__.Playercharacter object at 0x7f34656057f0>\n"
     ]
    }
   ],
   "source": [
    "class Playercharacter:\n",
    "    def __init__(self, name): # name is an attribute.\n",
    "        self.name = name \n",
    "        \n",
    "    def run(self):\n",
    "        print(run)\n",
    "        \n",
    "player1 = Playercharacter(\"Rohit\")\n",
    "\n",
    "print(player1) # here only address of player1 gets printed."
   ]
  },
  {
   "cell_type": "code",
   "execution_count": 4,
   "id": "e7635d2c",
   "metadata": {},
   "outputs": [
    {
     "name": "stdout",
     "output_type": "stream",
     "text": [
      "Rohit\n"
     ]
    }
   ],
   "source": [
    "class Playercharacter:\n",
    "    def __init__(self, name):\n",
    "        self.name = name\n",
    "        \n",
    "    def run(self):\n",
    "        print(run)\n",
    "        \n",
    "player1 = Playercharacter(\"Rohit\")\n",
    "\n",
    "print(player1.name)"
   ]
  },
  {
   "cell_type": "code",
   "execution_count": 6,
   "id": "42832d5f",
   "metadata": {},
   "outputs": [
    {
     "name": "stdout",
     "output_type": "stream",
     "text": [
      "Rohit\n",
      "Pant\n",
      "34\n",
      "24\n"
     ]
    }
   ],
   "source": [
    "class Playercharacter:\n",
    "    def __init__(self, name, age):\n",
    "        self.name = name\n",
    "        self.age = age\n",
    "        \n",
    "    def run(self):\n",
    "        print(run)\n",
    "        \n",
    "player1 = Playercharacter(\"Rohit\",34)\n",
    "player2 = Playercharacter(\"Pant\",24)\n",
    "\n",
    "print(player1.name)\n",
    "print(player2.name)\n",
    "print(player1.age)\n",
    "print(player2.age)"
   ]
  },
  {
   "cell_type": "code",
   "execution_count": 7,
   "id": "9293579a",
   "metadata": {},
   "outputs": [
    {
     "name": "stdout",
     "output_type": "stream",
     "text": [
      "<bound method Playercharacter.run of <__main__.Playercharacter object at 0x7f34657caca0>>\n",
      "Pant\n"
     ]
    }
   ],
   "source": [
    "class Playercharacter:\n",
    "    def __init__(self, name, age):\n",
    "        self.name = name\n",
    "        self.age = age\n",
    "        \n",
    "    def run(self):\n",
    "        print('run')\n",
    "        \n",
    "player1 = Playercharacter(\"Rohit\",34)\n",
    "player2 = Playercharacter(\"Pant\",24)\n",
    "\n",
    "print(player1.run)\n",
    "print(player2.name)"
   ]
  },
  {
   "cell_type": "code",
   "execution_count": 10,
   "id": "eeba0532",
   "metadata": {},
   "outputs": [
    {
     "name": "stdout",
     "output_type": "stream",
     "text": [
      "run\n",
      "done\n",
      "Pant\n"
     ]
    }
   ],
   "source": [
    "class Playercharacter:\n",
    "    def __init__(self, name, age):\n",
    "        self.name = name\n",
    "        self.age = age\n",
    "        \n",
    "    def run(self):\n",
    "        print('run')\n",
    "        return 'done'\n",
    "        \n",
    "player1 = Playercharacter(\"Rohit\",34)\n",
    "player2 = Playercharacter(\"Pant\",24)\n",
    "\n",
    "print(player1.run()) # without bracket it was returning only address\n",
    "print(player2.name)"
   ]
  },
  {
   "cell_type": "code",
   "execution_count": 11,
   "id": "47620645",
   "metadata": {},
   "outputs": [
    {
     "name": "stdout",
     "output_type": "stream",
     "text": [
      "<__main__.Playercharacter object at 0x7f3465614700>\n",
      "<__main__.Playercharacter object at 0x7f34656e2760>\n"
     ]
    }
   ],
   "source": [
    "class Playercharacter:\n",
    "    def __init__(self, name, age):\n",
    "        self.name = name\n",
    "        self.age = age\n",
    "        \n",
    "    def run(self):\n",
    "        print('run')\n",
    "        return 'done'\n",
    "        \n",
    "player1 = Playercharacter(\"Rohit\",34)\n",
    "player2 = Playercharacter(\"Pant\",24)\n",
    "\n",
    "print(player1) \n",
    "print(player2) # through this we can see both player 1 & 2 have different address."
   ]
  },
  {
   "cell_type": "code",
   "execution_count": 12,
   "id": "058f8c17",
   "metadata": {},
   "outputs": [
    {
     "name": "stdout",
     "output_type": "stream",
     "text": [
      "<__main__.Playercharacter object at 0x7f346557dc40>\n",
      "50\n"
     ]
    }
   ],
   "source": [
    "class Playercharacter:\n",
    "    def __init__(self, name, age):\n",
    "        self.name = name\n",
    "        self.age = age\n",
    "        \n",
    "    def run(self):\n",
    "        print('run')\n",
    "        return 'done'\n",
    "        \n",
    "player1 = Playercharacter(\"Rohit\",34)\n",
    "player2 = Playercharacter(\"Pant\",24)\n",
    "player2.attack = 50\n",
    "print(player1) \n",
    "print(player2.attack) # this attribute is only of object player 2."
   ]
  },
  {
   "cell_type": "code",
   "execution_count": 13,
   "id": "ecfb8ade",
   "metadata": {},
   "outputs": [
    {
     "name": "stdout",
     "output_type": "stream",
     "text": [
      "Help on Playercharacter in module __main__ object:\n",
      "\n",
      "class Playercharacter(builtins.object)\n",
      " |  Playercharacter(name, age)\n",
      " |  \n",
      " |  Methods defined here:\n",
      " |  \n",
      " |  __init__(self, name, age)\n",
      " |      Initialize self.  See help(type(self)) for accurate signature.\n",
      " |  \n",
      " |  run(self)\n",
      " |  \n",
      " |  ----------------------------------------------------------------------\n",
      " |  Data descriptors defined here:\n",
      " |  \n",
      " |  __dict__\n",
      " |      dictionary for instance variables (if defined)\n",
      " |  \n",
      " |  __weakref__\n",
      " |      list of weak references to the object (if defined)\n",
      "\n"
     ]
    }
   ],
   "source": [
    "help(player1)"
   ]
  },
  {
   "cell_type": "code",
   "execution_count": 14,
   "id": "23d96ebc",
   "metadata": {},
   "outputs": [
    {
     "name": "stdout",
     "output_type": "stream",
     "text": [
      "True\n",
      "True\n"
     ]
    }
   ],
   "source": [
    "# class object attribute\n",
    "\n",
    "class Playercharacter:\n",
    "    membership = True\n",
    "    def __init__(self, name, age):\n",
    "        self.name = name\n",
    "        self.age = age\n",
    "        \n",
    "    def run(self):\n",
    "        print('run')\n",
    "        return 'done'\n",
    "        \n",
    "player1 = Playercharacter(\"Rohit\",34)\n",
    "player2 = Playercharacter(\"Pant\",24)\n",
    "player2.attack = 50\n",
    "print(player1.membership) \n",
    "print(player2.membership) #class object attribute is available for all objects and it's not dynamic."
   ]
  },
  {
   "cell_type": "code",
   "execution_count": 15,
   "id": "e42dc162",
   "metadata": {},
   "outputs": [
    {
     "name": "stdout",
     "output_type": "stream",
     "text": [
      "Rohit\n",
      "True\n"
     ]
    }
   ],
   "source": [
    "\n",
    "class Playercharacter:\n",
    "    membership = True\n",
    "    def __init__(self, name, age):\n",
    "        if (self.membership): # it can be written like Playercharacter.membership it gives same result.\n",
    "            self.name = name\n",
    "            self.age = age\n",
    "        \n",
    "    def run(self):\n",
    "        print('run')\n",
    "        return 'done'\n",
    "        \n",
    "player1 = Playercharacter(\"Rohit\",34)\n",
    "player2 = Playercharacter(\"Pant\",24)\n",
    "player2.attack = 50\n",
    "print(player1.name) \n",
    "print(player2.membership) # one convention which I didn't follow is use of capital letters for all words\n",
    "                          # in class name i.e. Player should have capital \"P\" as well as character which I didn't."
   ]
  },
  {
   "cell_type": "code",
   "execution_count": null,
   "id": "774035f8",
   "metadata": {},
   "outputs": [],
   "source": []
  }
 ],
 "metadata": {
  "kernelspec": {
   "display_name": "Python 3 (ipykernel)",
   "language": "python",
   "name": "python3"
  },
  "language_info": {
   "codemirror_mode": {
    "name": "ipython",
    "version": 3
   },
   "file_extension": ".py",
   "mimetype": "text/x-python",
   "name": "python",
   "nbconvert_exporter": "python",
   "pygments_lexer": "ipython3",
   "version": "3.9.12"
  }
 },
 "nbformat": 4,
 "nbformat_minor": 5
}
