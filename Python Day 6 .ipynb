{
 "cells": [
  {
   "cell_type": "code",
   "execution_count": 2,
   "id": "6d940612",
   "metadata": {},
   "outputs": [
    {
     "ename": "TypeError",
     "evalue": "__init__() missing 1 required positional argument: 'name'",
     "output_type": "error",
     "traceback": [
      "\u001b[0;31m---------------------------------------------------------------------------\u001b[0m",
      "\u001b[0;31mTypeError\u001b[0m                                 Traceback (most recent call last)",
      "Input \u001b[0;32mIn [2]\u001b[0m, in \u001b[0;36m<cell line: 10>\u001b[0;34m()\u001b[0m\n\u001b[1;32m      7\u001b[0m     \u001b[38;5;28;01mdef\u001b[39;00m \u001b[38;5;21mrun\u001b[39m(\u001b[38;5;28mself\u001b[39m):\n\u001b[1;32m      8\u001b[0m         \u001b[38;5;28mprint\u001b[39m(run)\n\u001b[0;32m---> 10\u001b[0m player1 \u001b[38;5;241m=\u001b[39m \u001b[43mPlayercharacter\u001b[49m\u001b[43m(\u001b[49m\u001b[43m)\u001b[49m\n\u001b[1;32m     12\u001b[0m \u001b[38;5;28mprint\u001b[39m(player1)\n",
      "\u001b[0;31mTypeError\u001b[0m: __init__() missing 1 required positional argument: 'name'"
     ]
    }
   ],
   "source": [
    "# OOPS\n",
    "\n",
    "class Playercharacter:\n",
    "    def __init__(self, name):\n",
    "        self.name = name\n",
    "        \n",
    "    def run(self):\n",
    "        print(run)\n",
    "        \n",
    "player1 = Playercharacter()\n",
    "\n",
    "print(player1) # positiona argument was not given"
   ]
  },
  {
   "cell_type": "code",
   "execution_count": 3,
   "id": "92f77a5c",
   "metadata": {},
   "outputs": [
    {
     "name": "stdout",
     "output_type": "stream",
     "text": [
      "<__main__.Playercharacter object at 0x7f34656057f0>\n"
     ]
    }
   ],
   "source": [
    "class Playercharacter:\n",
    "    def __init__(self, name): # name is an attribute.\n",
    "        self.name = name \n",
    "        \n",
    "    def run(self):\n",
    "        print(run)\n",
    "        \n",
    "player1 = Playercharacter(\"Rohit\")\n",
    "\n",
    "print(player1) # here only address of player1 gets printed."
   ]
  },
  {
   "cell_type": "code",
   "execution_count": 4,
   "id": "2006ae80",
   "metadata": {},
   "outputs": [
    {
     "name": "stdout",
     "output_type": "stream",
     "text": [
      "Rohit\n"
     ]
    }
   ],
   "source": [
    "class Playercharacter:\n",
    "    def __init__(self, name):\n",
    "        self.name = name\n",
    "        \n",
    "    def run(self):\n",
    "        print(run)\n",
    "        \n",
    "player1 = Playercharacter(\"Rohit\")\n",
    "\n",
    "print(player1.name)"
   ]
  },
  {
   "cell_type": "code",
   "execution_count": 6,
   "id": "6be1eb54",
   "metadata": {},
   "outputs": [
    {
     "name": "stdout",
     "output_type": "stream",
     "text": [
      "Rohit\n",
      "Pant\n",
      "34\n",
      "24\n"
     ]
    }
   ],
   "source": [
    "class Playercharacter:\n",
    "    def __init__(self, name, age):\n",
    "        self.name = name\n",
    "        self.age = age\n",
    "        \n",
    "    def run(self):\n",
    "        print(run)\n",
    "        \n",
    "player1 = Playercharacter(\"Rohit\",34)\n",
    "player2 = Playercharacter(\"Pant\",24)\n",
    "\n",
    "print(player1.name)\n",
    "print(player2.name)\n",
    "print(player1.age)\n",
    "print(player2.age)"
   ]
  },
  {
   "cell_type": "code",
   "execution_count": 7,
   "id": "51414e2b",
   "metadata": {},
   "outputs": [
    {
     "name": "stdout",
     "output_type": "stream",
     "text": [
      "<bound method Playercharacter.run of <__main__.Playercharacter object at 0x7f34657caca0>>\n",
      "Pant\n"
     ]
    }
   ],
   "source": [
    "class Playercharacter:\n",
    "    def __init__(self, name, age):\n",
    "        self.name = name\n",
    "        self.age = age\n",
    "        \n",
    "    def run(self):\n",
    "        print('run')\n",
    "        \n",
    "player1 = Playercharacter(\"Rohit\",34)\n",
    "player2 = Playercharacter(\"Pant\",24)\n",
    "\n",
    "print(player1.run)\n",
    "print(player2.name)"
   ]
  },
  {
   "cell_type": "code",
   "execution_count": 10,
   "id": "6a354761",
   "metadata": {},
   "outputs": [
    {
     "name": "stdout",
     "output_type": "stream",
     "text": [
      "run\n",
      "done\n",
      "Pant\n"
     ]
    }
   ],
   "source": [
    "class Playercharacter:\n",
    "    def __init__(self, name, age):\n",
    "        self.name = name\n",
    "        self.age = age\n",
    "        \n",
    "    def run(self):\n",
    "        print('run')\n",
    "        return 'done'\n",
    "        \n",
    "player1 = Playercharacter(\"Rohit\",34)\n",
    "player2 = Playercharacter(\"Pant\",24)\n",
    "\n",
    "print(player1.run()) # without bracket it was returning only address\n",
    "print(player2.name)"
   ]
  },
  {
   "cell_type": "code",
   "execution_count": 11,
   "id": "eae0b77e",
   "metadata": {},
   "outputs": [
    {
     "name": "stdout",
     "output_type": "stream",
     "text": [
      "<__main__.Playercharacter object at 0x7f3465614700>\n",
      "<__main__.Playercharacter object at 0x7f34656e2760>\n"
     ]
    }
   ],
   "source": [
    "class Playercharacter:\n",
    "    def __init__(self, name, age):\n",
    "        self.name = name\n",
    "        self.age = age\n",
    "        \n",
    "    def run(self):\n",
    "        print('run')\n",
    "        return 'done'\n",
    "        \n",
    "player1 = Playercharacter(\"Rohit\",34)\n",
    "player2 = Playercharacter(\"Pant\",24)\n",
    "\n",
    "print(player1) \n",
    "print(player2) # through this we can see both player 1 & 2 have different address."
   ]
  },
  {
   "cell_type": "code",
   "execution_count": 12,
   "id": "c2eb5e7a",
   "metadata": {},
   "outputs": [
    {
     "name": "stdout",
     "output_type": "stream",
     "text": [
      "<__main__.Playercharacter object at 0x7f346557dc40>\n",
      "50\n"
     ]
    }
   ],
   "source": [
    "class Playercharacter:\n",
    "    def __init__(self, name, age):\n",
    "        self.name = name\n",
    "        self.age = age\n",
    "        \n",
    "    def run(self):\n",
    "        print('run')\n",
    "        return 'done'\n",
    "        \n",
    "player1 = Playercharacter(\"Rohit\",34)\n",
    "player2 = Playercharacter(\"Pant\",24)\n",
    "player2.attack = 50\n",
    "print(player1) \n",
    "print(player2.attack) # this attribute is only of object player 2."
   ]
  },
  {
   "cell_type": "code",
   "execution_count": 13,
   "id": "58d88e55",
   "metadata": {},
   "outputs": [
    {
     "name": "stdout",
     "output_type": "stream",
     "text": [
      "Help on Playercharacter in module __main__ object:\n",
      "\n",
      "class Playercharacter(builtins.object)\n",
      " |  Playercharacter(name, age)\n",
      " |  \n",
      " |  Methods defined here:\n",
      " |  \n",
      " |  __init__(self, name, age)\n",
      " |      Initialize self.  See help(type(self)) for accurate signature.\n",
      " |  \n",
      " |  run(self)\n",
      " |  \n",
      " |  ----------------------------------------------------------------------\n",
      " |  Data descriptors defined here:\n",
      " |  \n",
      " |  __dict__\n",
      " |      dictionary for instance variables (if defined)\n",
      " |  \n",
      " |  __weakref__\n",
      " |      list of weak references to the object (if defined)\n",
      "\n"
     ]
    }
   ],
   "source": [
    "help(player1)"
   ]
  },
  {
   "cell_type": "code",
   "execution_count": 14,
   "id": "92c226b5",
   "metadata": {},
   "outputs": [
    {
     "name": "stdout",
     "output_type": "stream",
     "text": [
      "True\n",
      "True\n"
     ]
    }
   ],
   "source": [
    "# class object attribute\n",
    "\n",
    "class Playercharacter:\n",
    "    membership = True\n",
    "    def __init__(self, name, age):\n",
    "        self.name = name\n",
    "        self.age = age\n",
    "        \n",
    "    def run(self):\n",
    "        print('run')\n",
    "        return 'done'\n",
    "        \n",
    "player1 = Playercharacter(\"Rohit\",34)\n",
    "player2 = Playercharacter(\"Pant\",24)\n",
    "player2.attack = 50\n",
    "print(player1.membership) \n",
    "print(player2.membership) #class object attribute is available for all objects and it's not dynamic."
   ]
  },
  {
   "cell_type": "code",
   "execution_count": 15,
   "id": "ace9470b",
   "metadata": {},
   "outputs": [
    {
     "name": "stdout",
     "output_type": "stream",
     "text": [
      "Rohit\n",
      "True\n"
     ]
    }
   ],
   "source": [
    "\n",
    "class Playercharacter:\n",
    "    membership = True\n",
    "    def __init__(self, name, age):\n",
    "        if (self.membership): # it can be written like Playercharacter.membership it gives same result.\n",
    "            self.name = name\n",
    "            self.age = age\n",
    "        \n",
    "    def run(self):\n",
    "        print('run')\n",
    "        return 'done'\n",
    "        \n",
    "player1 = Playercharacter(\"Rohit\",34)\n",
    "player2 = Playercharacter(\"Pant\",24)\n",
    "player2.attack = 50\n",
    "print(player1.name) \n",
    "print(player2.membership) # one convention which I didn't follow is use of capital letters for all words\n",
    "                          # in class name i.e. Player should have capital \"P\" as well as character which I didn't."
   ]
  },
  {
   "cell_type": "code",
   "execution_count": 16,
   "id": "d42fc7a3",
   "metadata": {},
   "outputs": [
    {
     "name": "stdout",
     "output_type": "stream",
     "text": [
      "5\n"
     ]
    }
   ],
   "source": [
    "# @classmethos\n",
    "class PlayerCharacter():\n",
    "    membership = True\n",
    "    def __init__(self, name, age):\n",
    "        self.name = name\n",
    "        self.age = age\n",
    "    @classmethod\n",
    "    def adding_things(cls, num1, num2):\n",
    "        return num1+num2\n",
    "player1 = PlayerCharacter(\"Tom\", 21)\n",
    "print(player1.adding_things(2,3))"
   ]
  },
  {
   "cell_type": "code",
   "execution_count": 17,
   "id": "0912134e",
   "metadata": {},
   "outputs": [
    {
     "name": "stdout",
     "output_type": "stream",
     "text": [
      "5\n"
     ]
    }
   ],
   "source": [
    "class PlayerCharacter():\n",
    "    membership = True\n",
    "    def __init__(self, name, age):\n",
    "        self.name = name\n",
    "        self.age = age\n",
    "    @classmethod\n",
    "    def adding_things(cls, num1, num2):\n",
    "        return num1+num2\n",
    "#player1 = Playercharacter(\"Tom\", 21) # thus we can use it duirectly without instantiation.\n",
    "print(PlayerCharacter.adding_things(2,3))"
   ]
  },
  {
   "cell_type": "code",
   "execution_count": 18,
   "id": "104f5cef",
   "metadata": {},
   "outputs": [
    {
     "name": "stdout",
     "output_type": "stream",
     "text": [
      "5\n"
     ]
    }
   ],
   "source": [
    "class PlayerCharacter():\n",
    "    membership = True\n",
    "    def __init__(self, name, age):\n",
    "        self.name = name\n",
    "        self.age = age\n",
    "    @classmethod\n",
    "    def adding_things(cls, num1, num2):\n",
    "        return cls('Teddy', num1+num2)\n",
    "player3 = (PlayerCharacter.adding_things(2,3))\n",
    "print(player3.age) # So in @classmethod we are using cls in place of self"
   ]
  },
  {
   "cell_type": "code",
   "execution_count": 19,
   "id": "e4e79b5b",
   "metadata": {},
   "outputs": [],
   "source": [
    "# @staticmethod\n",
    "#def adding_things( num1, num2):\n",
    "        #return ('Teddy', num1+num2) # it's syntax but here we don't have any third variable to refer to class like\n",
    "    # \"cls\" for @classmethod. It doesn't care about the attributes but @classmethod does."
   ]
  },
  {
   "cell_type": "code",
   "execution_count": 20,
   "id": "68c4ed65",
   "metadata": {},
   "outputs": [],
   "source": [
    "# Abstraction - it means to hide information which is not required by user. \n",
    "# In java we can create private variables inside class using private keyword thus it can't be accessed.\n",
    "# but in python we don't have this option so we follow a convention of writing a \"_\" before attribute\n",
    "#so that coder understands."
   ]
  },
  {
   "cell_type": "code",
   "execution_count": 30,
   "id": "7546536e",
   "metadata": {},
   "outputs": [
    {
     "name": "stdout",
     "output_type": "stream",
     "text": [
      "my name is Tom), and I am 100 years old\n",
      "None\n"
     ]
    },
    {
     "ename": "AttributeError",
     "evalue": "'PlayerCharacter' object has no attribute 'age'",
     "output_type": "error",
     "traceback": [
      "\u001b[0;31m---------------------------------------------------------------------------\u001b[0m",
      "\u001b[0;31mAttributeError\u001b[0m                            Traceback (most recent call last)",
      "Input \u001b[0;32mIn [30]\u001b[0m, in \u001b[0;36m<cell line: 11>\u001b[0;34m()\u001b[0m\n\u001b[1;32m      9\u001b[0m player1 \u001b[38;5;241m=\u001b[39m PlayerCharacter(\u001b[38;5;124m'\u001b[39m\u001b[38;5;124mTom\u001b[39m\u001b[38;5;124m'\u001b[39m, \u001b[38;5;241m100\u001b[39m)\n\u001b[1;32m     10\u001b[0m \u001b[38;5;28mprint\u001b[39m(player1\u001b[38;5;241m.\u001b[39mspeak())\n\u001b[0;32m---> 11\u001b[0m \u001b[38;5;28mprint\u001b[39m(\u001b[43mplayer1\u001b[49m\u001b[38;5;241;43m.\u001b[39;49m\u001b[43mage\u001b[49m)\n",
      "\u001b[0;31mAttributeError\u001b[0m: 'PlayerCharacter' object has no attribute 'age'"
     ]
    }
   ],
   "source": [
    "class PlayerCharacter():\n",
    "    def __init__(self,name,age):\n",
    "        self._name = name\n",
    "        self._age = age\n",
    "    def run(self):\n",
    "        print('run')\n",
    "    def speak(self):\n",
    "        print(f'my name is {self._name}), and I am {self._age} years old')\n",
    "player1 = PlayerCharacter('Tom', 100)\n",
    "print(player1.speak())\n",
    "print(player1.age)"
   ]
  },
  {
   "cell_type": "code",
   "execution_count": 22,
   "id": "0b2b6805",
   "metadata": {},
   "outputs": [
    {
     "ename": "NameError",
     "evalue": "name 'name' is not defined",
     "output_type": "error",
     "traceback": [
      "\u001b[0;31m---------------------------------------------------------------------------\u001b[0m",
      "\u001b[0;31mNameError\u001b[0m                                 Traceback (most recent call last)",
      "Input \u001b[0;32mIn [22]\u001b[0m, in \u001b[0;36m<cell line: 9>\u001b[0;34m()\u001b[0m\n\u001b[1;32m      7\u001b[0m     \u001b[38;5;28;01mdef\u001b[39;00m \u001b[38;5;21mspeak\u001b[39m(\u001b[38;5;28mself\u001b[39m):\n\u001b[1;32m      8\u001b[0m         \u001b[38;5;28mprint\u001b[39m(\u001b[38;5;124mf\u001b[39m\u001b[38;5;124m'\u001b[39m\u001b[38;5;124mmy name is \u001b[39m\u001b[38;5;132;01m{\u001b[39;00m\u001b[38;5;28mself\u001b[39m\u001b[38;5;241m.\u001b[39m_name\u001b[38;5;132;01m}\u001b[39;00m\u001b[38;5;124m), and I am \u001b[39m\u001b[38;5;132;01m{\u001b[39;00mself_age\u001b[38;5;132;01m}\u001b[39;00m\u001b[38;5;124m years old\u001b[39m\u001b[38;5;124m'\u001b[39m)\n\u001b[0;32m----> 9\u001b[0m player1 \u001b[38;5;241m=\u001b[39m \u001b[43mPlayerCharacter\u001b[49m\u001b[43m(\u001b[49m\u001b[38;5;124;43m'\u001b[39;49m\u001b[38;5;124;43mTom\u001b[39;49m\u001b[38;5;124;43m'\u001b[39;49m\u001b[43m,\u001b[49m\u001b[43m \u001b[49m\u001b[38;5;241;43m100\u001b[39;49m\u001b[43m)\u001b[49m\n\u001b[1;32m     10\u001b[0m \u001b[38;5;28mprint\u001b[39m(player1\u001b[38;5;241m.\u001b[39mspeak())\n\u001b[1;32m     11\u001b[0m \u001b[38;5;28mprint\u001b[39m(player1\u001b[38;5;241m.\u001b[39mage)\n",
      "Input \u001b[0;32mIn [22]\u001b[0m, in \u001b[0;36mPlayerCharacter.__init__\u001b[0;34m(self, _name, _age)\u001b[0m\n\u001b[1;32m      2\u001b[0m \u001b[38;5;28;01mdef\u001b[39;00m \u001b[38;5;21m__init__\u001b[39m(\u001b[38;5;28mself\u001b[39m,_name,_age):\n\u001b[0;32m----> 3\u001b[0m     \u001b[38;5;28mself\u001b[39m\u001b[38;5;241m.\u001b[39m_name \u001b[38;5;241m=\u001b[39m \u001b[43mname\u001b[49m\n\u001b[1;32m      4\u001b[0m     \u001b[38;5;28mself\u001b[39m\u001b[38;5;241m.\u001b[39m_age \u001b[38;5;241m=\u001b[39m age\n",
      "\u001b[0;31mNameError\u001b[0m: name 'name' is not defined"
     ]
    }
   ],
   "source": [
    "class PlayerCharacter():\n",
    "    def __init__(self,_name,_age):\n",
    "        self._name = name\n",
    "        self._age = age\n",
    "    def run(self):\n",
    "        print('run')\n",
    "    def speak(self):\n",
    "        print(f'my name is {self._name}), and I am {self_age} years old')\n",
    "player1 = PlayerCharacter('Tom', 100)\n",
    "print(player1.speak())\n",
    "print(player1.age)"
   ]
  },
  {
   "cell_type": "code",
   "execution_count": 27,
   "id": "d5e94854",
   "metadata": {},
   "outputs": [
    {
     "name": "stdout",
     "output_type": "stream",
     "text": [
      "my name is Tom, and I am 100 years old\n",
      "None\n"
     ]
    }
   ],
   "source": [
    "class PlayerCharacter():\n",
    "    def __init__(self,name,age):\n",
    "        self._name = name\n",
    "        self._age = age\n",
    "    def run(self):\n",
    "        print('run')\n",
    "    def speak(self):\n",
    "        print(f'my name is {self._name}, and I am {self._age} years old')\n",
    "player1 = PlayerCharacter('Tom', 100)\n",
    "print(player1.speak())\n",
    "#print(player1.age)"
   ]
  },
  {
   "cell_type": "code",
   "execution_count": 29,
   "id": "95965b7a",
   "metadata": {},
   "outputs": [
    {
     "name": "stdout",
     "output_type": "stream",
     "text": [
      "100\n"
     ]
    }
   ],
   "source": [
    "print(player1._age)\n"
   ]
  },
  {
   "cell_type": "code",
   "execution_count": null,
   "id": "4e69fb89",
   "metadata": {},
   "outputs": [],
   "source": []
  }
 ],
 "metadata": {
  "kernelspec": {
   "display_name": "Python 3 (ipykernel)",
   "language": "python",
   "name": "python3"
  },
  "language_info": {
   "codemirror_mode": {
    "name": "ipython",
    "version": 3
   },
   "file_extension": ".py",
   "mimetype": "text/x-python",
   "name": "python",
   "nbconvert_exporter": "python",
   "pygments_lexer": "ipython3",
   "version": "3.9.12"
  }
 },
 "nbformat": 4,
 "nbformat_minor": 5
}
