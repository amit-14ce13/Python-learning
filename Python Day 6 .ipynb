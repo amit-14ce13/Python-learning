{
 "cells": [
  {
   "cell_type": "code",
   "execution_count": 2,
   "id": "0dee339a",
   "metadata": {},
   "outputs": [
    {
     "ename": "TypeError",
     "evalue": "__init__() missing 1 required positional argument: 'name'",
     "output_type": "error",
     "traceback": [
      "\u001b[0;31m---------------------------------------------------------------------------\u001b[0m",
      "\u001b[0;31mTypeError\u001b[0m                                 Traceback (most recent call last)",
      "Input \u001b[0;32mIn [2]\u001b[0m, in \u001b[0;36m<cell line: 10>\u001b[0;34m()\u001b[0m\n\u001b[1;32m      7\u001b[0m     \u001b[38;5;28;01mdef\u001b[39;00m \u001b[38;5;21mrun\u001b[39m(\u001b[38;5;28mself\u001b[39m):\n\u001b[1;32m      8\u001b[0m         \u001b[38;5;28mprint\u001b[39m(run)\n\u001b[0;32m---> 10\u001b[0m player1 \u001b[38;5;241m=\u001b[39m \u001b[43mPlayercharacter\u001b[49m\u001b[43m(\u001b[49m\u001b[43m)\u001b[49m\n\u001b[1;32m     12\u001b[0m \u001b[38;5;28mprint\u001b[39m(player1)\n",
      "\u001b[0;31mTypeError\u001b[0m: __init__() missing 1 required positional argument: 'name'"
     ]
    }
   ],
   "source": [
    "# OOPS\n",
    "\n",
    "class Playercharacter:\n",
    "    def __init__(self, name):\n",
    "        self.name = name\n",
    "        \n",
    "    def run(self):\n",
    "        print(run)\n",
    "        \n",
    "player1 = Playercharacter()\n",
    "\n",
    "print(player1) # positiona argument was not given"
   ]
  },
  {
   "cell_type": "code",
   "execution_count": 3,
   "id": "7a43633a",
   "metadata": {},
   "outputs": [
    {
     "name": "stdout",
     "output_type": "stream",
     "text": [
      "<__main__.Playercharacter object at 0x7f34656057f0>\n"
     ]
    }
   ],
   "source": [
    "class Playercharacter:\n",
    "    def __init__(self, name): # name is an attribute.\n",
    "        self.name = name \n",
    "        \n",
    "    def run(self):\n",
    "        print(run)\n",
    "        \n",
    "player1 = Playercharacter(\"Rohit\")\n",
    "\n",
    "print(player1) # here only address of player1 gets printed."
   ]
  },
  {
   "cell_type": "code",
   "execution_count": 4,
   "id": "5c362957",
   "metadata": {},
   "outputs": [
    {
     "name": "stdout",
     "output_type": "stream",
     "text": [
      "Rohit\n"
     ]
    }
   ],
   "source": [
    "class Playercharacter:\n",
    "    def __init__(self, name):\n",
    "        self.name = name\n",
    "        \n",
    "    def run(self):\n",
    "        print(run)\n",
    "        \n",
    "player1 = Playercharacter(\"Rohit\")\n",
    "\n",
    "print(player1.name)"
   ]
  },
  {
   "cell_type": "code",
   "execution_count": 6,
   "id": "f1406e90",
   "metadata": {},
   "outputs": [
    {
     "name": "stdout",
     "output_type": "stream",
     "text": [
      "Rohit\n",
      "Pant\n",
      "34\n",
      "24\n"
     ]
    }
   ],
   "source": [
    "class Playercharacter:\n",
    "    def __init__(self, name, age):\n",
    "        self.name = name\n",
    "        self.age = age\n",
    "        \n",
    "    def run(self):\n",
    "        print(run)\n",
    "        \n",
    "player1 = Playercharacter(\"Rohit\",34)\n",
    "player2 = Playercharacter(\"Pant\",24)\n",
    "\n",
    "print(player1.name)\n",
    "print(player2.name)\n",
    "print(player1.age)\n",
    "print(player2.age)"
   ]
  },
  {
   "cell_type": "code",
   "execution_count": 7,
   "id": "06252bcf",
   "metadata": {},
   "outputs": [
    {
     "name": "stdout",
     "output_type": "stream",
     "text": [
      "<bound method Playercharacter.run of <__main__.Playercharacter object at 0x7f34657caca0>>\n",
      "Pant\n"
     ]
    }
   ],
   "source": [
    "class Playercharacter:\n",
    "    def __init__(self, name, age):\n",
    "        self.name = name\n",
    "        self.age = age\n",
    "        \n",
    "    def run(self):\n",
    "        print('run')\n",
    "        \n",
    "player1 = Playercharacter(\"Rohit\",34)\n",
    "player2 = Playercharacter(\"Pant\",24)\n",
    "\n",
    "print(player1.run)\n",
    "print(player2.name)"
   ]
  },
  {
   "cell_type": "code",
   "execution_count": 10,
   "id": "3be312d0",
   "metadata": {},
   "outputs": [
    {
     "name": "stdout",
     "output_type": "stream",
     "text": [
      "run\n",
      "done\n",
      "Pant\n"
     ]
    }
   ],
   "source": [
    "class Playercharacter:\n",
    "    def __init__(self, name, age):\n",
    "        self.name = name\n",
    "        self.age = age\n",
    "        \n",
    "    def run(self):\n",
    "        print('run')\n",
    "        return 'done'\n",
    "        \n",
    "player1 = Playercharacter(\"Rohit\",34)\n",
    "player2 = Playercharacter(\"Pant\",24)\n",
    "\n",
    "print(player1.run()) # without bracket it was returning only address\n",
    "print(player2.name)"
   ]
  },
  {
   "cell_type": "code",
   "execution_count": 11,
   "id": "1fb049d6",
   "metadata": {},
   "outputs": [
    {
     "name": "stdout",
     "output_type": "stream",
     "text": [
      "<__main__.Playercharacter object at 0x7f3465614700>\n",
      "<__main__.Playercharacter object at 0x7f34656e2760>\n"
     ]
    }
   ],
   "source": [
    "class Playercharacter:\n",
    "    def __init__(self, name, age):\n",
    "        self.name = name\n",
    "        self.age = age\n",
    "        \n",
    "    def run(self):\n",
    "        print('run')\n",
    "        return 'done'\n",
    "        \n",
    "player1 = Playercharacter(\"Rohit\",34)\n",
    "player2 = Playercharacter(\"Pant\",24)\n",
    "\n",
    "print(player1) \n",
    "print(player2) # through this we can see both player 1 & 2 have different address."
   ]
  },
  {
   "cell_type": "code",
   "execution_count": 12,
   "id": "b064bcd9",
   "metadata": {},
   "outputs": [
    {
     "name": "stdout",
     "output_type": "stream",
     "text": [
      "<__main__.Playercharacter object at 0x7f346557dc40>\n",
      "50\n"
     ]
    }
   ],
   "source": [
    "class Playercharacter:\n",
    "    def __init__(self, name, age):\n",
    "        self.name = name\n",
    "        self.age = age\n",
    "        \n",
    "    def run(self):\n",
    "        print('run')\n",
    "        return 'done'\n",
    "        \n",
    "player1 = Playercharacter(\"Rohit\",34)\n",
    "player2 = Playercharacter(\"Pant\",24)\n",
    "player2.attack = 50\n",
    "print(player1) \n",
    "print(player2.attack) # this attribute is only of object player 2."
   ]
  },
  {
   "cell_type": "code",
   "execution_count": 13,
   "id": "23256f1e",
   "metadata": {},
   "outputs": [
    {
     "name": "stdout",
     "output_type": "stream",
     "text": [
      "Help on Playercharacter in module __main__ object:\n",
      "\n",
      "class Playercharacter(builtins.object)\n",
      " |  Playercharacter(name, age)\n",
      " |  \n",
      " |  Methods defined here:\n",
      " |  \n",
      " |  __init__(self, name, age)\n",
      " |      Initialize self.  See help(type(self)) for accurate signature.\n",
      " |  \n",
      " |  run(self)\n",
      " |  \n",
      " |  ----------------------------------------------------------------------\n",
      " |  Data descriptors defined here:\n",
      " |  \n",
      " |  __dict__\n",
      " |      dictionary for instance variables (if defined)\n",
      " |  \n",
      " |  __weakref__\n",
      " |      list of weak references to the object (if defined)\n",
      "\n"
     ]
    }
   ],
   "source": [
    "help(player1)"
   ]
  },
  {
   "cell_type": "code",
   "execution_count": 14,
   "id": "2243d2ee",
   "metadata": {},
   "outputs": [
    {
     "name": "stdout",
     "output_type": "stream",
     "text": [
      "True\n",
      "True\n"
     ]
    }
   ],
   "source": [
    "# class object attribute\n",
    "\n",
    "class Playercharacter:\n",
    "    membership = True\n",
    "    def __init__(self, name, age):\n",
    "        self.name = name\n",
    "        self.age = age\n",
    "        \n",
    "    def run(self):\n",
    "        print('run')\n",
    "        return 'done'\n",
    "        \n",
    "player1 = Playercharacter(\"Rohit\",34)\n",
    "player2 = Playercharacter(\"Pant\",24)\n",
    "player2.attack = 50\n",
    "print(player1.membership) \n",
    "print(player2.membership) #class object attribute is available for all objects and it's not dynamic."
   ]
  },
  {
   "cell_type": "code",
   "execution_count": 15,
   "id": "71183f64",
   "metadata": {},
   "outputs": [
    {
     "name": "stdout",
     "output_type": "stream",
     "text": [
      "Rohit\n",
      "True\n"
     ]
    }
   ],
   "source": [
    "\n",
    "class Playercharacter:\n",
    "    membership = True\n",
    "    def __init__(self, name, age):\n",
    "        if (self.membership): # it can be written like Playercharacter.membership it gives same result.\n",
    "            self.name = name\n",
    "            self.age = age\n",
    "        \n",
    "    def run(self):\n",
    "        print('run')\n",
    "        return 'done'\n",
    "        \n",
    "player1 = Playercharacter(\"Rohit\",34)\n",
    "player2 = Playercharacter(\"Pant\",24)\n",
    "player2.attack = 50\n",
    "print(player1.name) \n",
    "print(player2.membership) # one convention which I didn't follow is use of capital letters for all words\n",
    "                          # in class name i.e. Player should have capital \"P\" as well as character which I didn't."
   ]
  },
  {
   "cell_type": "code",
   "execution_count": 16,
   "id": "01a7dc1b",
   "metadata": {},
   "outputs": [
    {
     "name": "stdout",
     "output_type": "stream",
     "text": [
      "5\n"
     ]
    }
   ],
   "source": [
    "# @classmethos\n",
    "class PlayerCharacter():\n",
    "    membership = True\n",
    "    def __init__(self, name, age):\n",
    "        self.name = name\n",
    "        self.age = age\n",
    "    @classmethod\n",
    "    def adding_things(cls, num1, num2):\n",
    "        return num1+num2\n",
    "player1 = PlayerCharacter(\"Tom\", 21)\n",
    "print(player1.adding_things(2,3))"
   ]
  },
  {
   "cell_type": "code",
   "execution_count": 17,
   "id": "88a35bd4",
   "metadata": {},
   "outputs": [
    {
     "name": "stdout",
     "output_type": "stream",
     "text": [
      "5\n"
     ]
    }
   ],
   "source": [
    "class PlayerCharacter():\n",
    "    membership = True\n",
    "    def __init__(self, name, age):\n",
    "        self.name = name\n",
    "        self.age = age\n",
    "    @classmethod\n",
    "    def adding_things(cls, num1, num2):\n",
    "        return num1+num2\n",
    "#player1 = Playercharacter(\"Tom\", 21) # thus we can use it duirectly without instantiation.\n",
    "print(PlayerCharacter.adding_things(2,3))"
   ]
  },
  {
   "cell_type": "code",
   "execution_count": 18,
   "id": "2272bb77",
   "metadata": {},
   "outputs": [
    {
     "name": "stdout",
     "output_type": "stream",
     "text": [
      "5\n"
     ]
    }
   ],
   "source": [
    "class PlayerCharacter():\n",
    "    membership = True\n",
    "    def __init__(self, name, age):\n",
    "        self.name = name\n",
    "        self.age = age\n",
    "    @classmethod\n",
    "    def adding_things(cls, num1, num2):\n",
    "        return cls('Teddy', num1+num2)\n",
    "player3 = (PlayerCharacter.adding_things(2,3))\n",
    "print(player3.age) # So in @classmethod we are using cls in place of self"
   ]
  },
  {
   "cell_type": "code",
   "execution_count": 19,
   "id": "b48b8185",
   "metadata": {},
   "outputs": [],
   "source": [
    "# @staticmethod\n",
    "#def adding_things( num1, num2):\n",
    "        #return ('Teddy', num1+num2) # it's syntax but here we don't have any third variable to refer to class like\n",
    "    # \"cls\" for @classmethod. It doesn't care about the attributes but @classmethod does."
   ]
  },
  {
   "cell_type": "code",
   "execution_count": 20,
   "id": "a3c2fbe3",
   "metadata": {},
   "outputs": [],
   "source": [
    "# Abstraction - it means to hide information which is not required by user. \n",
    "# In java we can create private variables inside class using private keyword thus it can't be accessed.\n",
    "# but in python we don't have this option so we follow a convention of writing a \"_\" before attribute\n",
    "#so that coder understands."
   ]
  },
  {
   "cell_type": "code",
   "execution_count": 30,
   "id": "ae64ff9e",
   "metadata": {},
   "outputs": [
    {
     "name": "stdout",
     "output_type": "stream",
     "text": [
      "my name is Tom), and I am 100 years old\n",
      "None\n"
     ]
    },
    {
     "ename": "AttributeError",
     "evalue": "'PlayerCharacter' object has no attribute 'age'",
     "output_type": "error",
     "traceback": [
      "\u001b[0;31m---------------------------------------------------------------------------\u001b[0m",
      "\u001b[0;31mAttributeError\u001b[0m                            Traceback (most recent call last)",
      "Input \u001b[0;32mIn [30]\u001b[0m, in \u001b[0;36m<cell line: 11>\u001b[0;34m()\u001b[0m\n\u001b[1;32m      9\u001b[0m player1 \u001b[38;5;241m=\u001b[39m PlayerCharacter(\u001b[38;5;124m'\u001b[39m\u001b[38;5;124mTom\u001b[39m\u001b[38;5;124m'\u001b[39m, \u001b[38;5;241m100\u001b[39m)\n\u001b[1;32m     10\u001b[0m \u001b[38;5;28mprint\u001b[39m(player1\u001b[38;5;241m.\u001b[39mspeak())\n\u001b[0;32m---> 11\u001b[0m \u001b[38;5;28mprint\u001b[39m(\u001b[43mplayer1\u001b[49m\u001b[38;5;241;43m.\u001b[39;49m\u001b[43mage\u001b[49m)\n",
      "\u001b[0;31mAttributeError\u001b[0m: 'PlayerCharacter' object has no attribute 'age'"
     ]
    }
   ],
   "source": [
    "class PlayerCharacter():\n",
    "    def __init__(self,name,age):\n",
    "        self._name = name\n",
    "        self._age = age\n",
    "    def run(self):\n",
    "        print('run')\n",
    "    def speak(self):\n",
    "        print(f'my name is {self._name}), and I am {self._age} years old')\n",
    "player1 = PlayerCharacter('Tom', 100)\n",
    "print(player1.speak())\n",
    "print(player1.age)"
   ]
  },
  {
   "cell_type": "code",
   "execution_count": 22,
   "id": "263f4034",
   "metadata": {},
   "outputs": [
    {
     "ename": "NameError",
     "evalue": "name 'name' is not defined",
     "output_type": "error",
     "traceback": [
      "\u001b[0;31m---------------------------------------------------------------------------\u001b[0m",
      "\u001b[0;31mNameError\u001b[0m                                 Traceback (most recent call last)",
      "Input \u001b[0;32mIn [22]\u001b[0m, in \u001b[0;36m<cell line: 9>\u001b[0;34m()\u001b[0m\n\u001b[1;32m      7\u001b[0m     \u001b[38;5;28;01mdef\u001b[39;00m \u001b[38;5;21mspeak\u001b[39m(\u001b[38;5;28mself\u001b[39m):\n\u001b[1;32m      8\u001b[0m         \u001b[38;5;28mprint\u001b[39m(\u001b[38;5;124mf\u001b[39m\u001b[38;5;124m'\u001b[39m\u001b[38;5;124mmy name is \u001b[39m\u001b[38;5;132;01m{\u001b[39;00m\u001b[38;5;28mself\u001b[39m\u001b[38;5;241m.\u001b[39m_name\u001b[38;5;132;01m}\u001b[39;00m\u001b[38;5;124m), and I am \u001b[39m\u001b[38;5;132;01m{\u001b[39;00mself_age\u001b[38;5;132;01m}\u001b[39;00m\u001b[38;5;124m years old\u001b[39m\u001b[38;5;124m'\u001b[39m)\n\u001b[0;32m----> 9\u001b[0m player1 \u001b[38;5;241m=\u001b[39m \u001b[43mPlayerCharacter\u001b[49m\u001b[43m(\u001b[49m\u001b[38;5;124;43m'\u001b[39;49m\u001b[38;5;124;43mTom\u001b[39;49m\u001b[38;5;124;43m'\u001b[39;49m\u001b[43m,\u001b[49m\u001b[43m \u001b[49m\u001b[38;5;241;43m100\u001b[39;49m\u001b[43m)\u001b[49m\n\u001b[1;32m     10\u001b[0m \u001b[38;5;28mprint\u001b[39m(player1\u001b[38;5;241m.\u001b[39mspeak())\n\u001b[1;32m     11\u001b[0m \u001b[38;5;28mprint\u001b[39m(player1\u001b[38;5;241m.\u001b[39mage)\n",
      "Input \u001b[0;32mIn [22]\u001b[0m, in \u001b[0;36mPlayerCharacter.__init__\u001b[0;34m(self, _name, _age)\u001b[0m\n\u001b[1;32m      2\u001b[0m \u001b[38;5;28;01mdef\u001b[39;00m \u001b[38;5;21m__init__\u001b[39m(\u001b[38;5;28mself\u001b[39m,_name,_age):\n\u001b[0;32m----> 3\u001b[0m     \u001b[38;5;28mself\u001b[39m\u001b[38;5;241m.\u001b[39m_name \u001b[38;5;241m=\u001b[39m \u001b[43mname\u001b[49m\n\u001b[1;32m      4\u001b[0m     \u001b[38;5;28mself\u001b[39m\u001b[38;5;241m.\u001b[39m_age \u001b[38;5;241m=\u001b[39m age\n",
      "\u001b[0;31mNameError\u001b[0m: name 'name' is not defined"
     ]
    }
   ],
   "source": [
    "class PlayerCharacter():\n",
    "    def __init__(self,_name,_age):\n",
    "        self._name = name\n",
    "        self._age = age\n",
    "    def run(self):\n",
    "        print('run')\n",
    "    def speak(self):\n",
    "        print(f'my name is {self._name}), and I am {self_age} years old')\n",
    "player1 = PlayerCharacter('Tom', 100)\n",
    "print(player1.speak())\n",
    "print(player1.age)"
   ]
  },
  {
   "cell_type": "code",
   "execution_count": 27,
   "id": "8d432c83",
   "metadata": {},
   "outputs": [
    {
     "name": "stdout",
     "output_type": "stream",
     "text": [
      "my name is Tom, and I am 100 years old\n",
      "None\n"
     ]
    }
   ],
   "source": [
    "class PlayerCharacter():\n",
    "    def __init__(self,name,age):\n",
    "        self._name = name\n",
    "        self._age = age\n",
    "    def run(self):\n",
    "        print('run')\n",
    "    def speak(self):\n",
    "        print(f'my name is {self._name}, and I am {self._age} years old')\n",
    "player1 = PlayerCharacter('Tom', 100)\n",
    "print(player1.speak())\n",
    "#print(player1.age)"
   ]
  },
  {
   "cell_type": "code",
   "execution_count": 29,
   "id": "af35eeaa",
   "metadata": {},
   "outputs": [
    {
     "name": "stdout",
     "output_type": "stream",
     "text": [
      "100\n"
     ]
    }
   ],
   "source": [
    "print(player1._age)\n"
   ]
  },
  {
   "cell_type": "code",
   "execution_count": 38,
   "id": "da6d14d2",
   "metadata": {},
   "outputs": [
    {
     "ename": "TypeError",
     "evalue": "sign_in() missing 1 required positional argument: 'self'",
     "output_type": "error",
     "traceback": [
      "\u001b[0;31m---------------------------------------------------------------------------\u001b[0m",
      "\u001b[0;31mTypeError\u001b[0m                                 Traceback (most recent call last)",
      "Input \u001b[0;32mIn [38]\u001b[0m, in \u001b[0;36m<cell line: 11>\u001b[0;34m()\u001b[0m\n\u001b[1;32m      9\u001b[0m     \u001b[38;5;28;01mpass\u001b[39;00m\n\u001b[1;32m     10\u001b[0m Wizard1 \u001b[38;5;241m=\u001b[39m Wizard()\n\u001b[0;32m---> 11\u001b[0m \u001b[38;5;28mprint\u001b[39m(\u001b[43mWizard\u001b[49m\u001b[38;5;241;43m.\u001b[39;49m\u001b[43msign_in\u001b[49m\u001b[43m(\u001b[49m\u001b[43m)\u001b[49m)\n",
      "\u001b[0;31mTypeError\u001b[0m: sign_in() missing 1 required positional argument: 'self'"
     ]
    }
   ],
   "source": [
    "# inheritance\n",
    "\n",
    "class User:\n",
    "    def sign_in(self):\n",
    "        print('logged in')\n",
    "class Wizard(User):\n",
    "    pass\n",
    "class Archer(User):\n",
    "    pass\n",
    "Wizard1 = Wizard()\n",
    "print(Wizard.sign_in())"
   ]
  },
  {
   "cell_type": "code",
   "execution_count": 40,
   "id": "e8b1b7d1",
   "metadata": {},
   "outputs": [
    {
     "name": "stdout",
     "output_type": "stream",
     "text": [
      "<__main__.Wizard object at 0x7f34646aac70>\n"
     ]
    }
   ],
   "source": [
    "class User:\n",
    "    def sign_in(self):\n",
    "        print('logged in')\n",
    "        \n",
    "class Wizard(User):\n",
    "    pass\n",
    "\n",
    "class Archer(User):\n",
    "    pass\n",
    "Wizard1 = Wizard()\n",
    "print(Wizard1)"
   ]
  },
  {
   "cell_type": "code",
   "execution_count": 41,
   "id": "765d02fb",
   "metadata": {},
   "outputs": [
    {
     "name": "stdout",
     "output_type": "stream",
     "text": [
      "<function User.sign_in at 0x7f346487e9d0>\n"
     ]
    }
   ],
   "source": [
    "print(Wizard.sign_in)"
   ]
  },
  {
   "cell_type": "code",
   "execution_count": 43,
   "id": "98ead5f1",
   "metadata": {},
   "outputs": [
    {
     "name": "stdout",
     "output_type": "stream",
     "text": [
      "logged in\n",
      "None\n"
     ]
    }
   ],
   "source": [
    "print(Wizard1.sign_in()) # I was writing wizard in place of wizard1"
   ]
  },
  {
   "cell_type": "code",
   "execution_count": 44,
   "id": "08290974",
   "metadata": {},
   "outputs": [
    {
     "name": "stdout",
     "output_type": "stream",
     "text": [
      "attacking with power of 50\n",
      "None\n"
     ]
    }
   ],
   "source": [
    "class User:\n",
    "    def sign_in(self):\n",
    "        print('logged in')\n",
    "        \n",
    "class Wizard(User):\n",
    "    def __init__(self,name,power):\n",
    "        self.name = name\n",
    "        self.power = power\n",
    "        \n",
    "    def attack(self):\n",
    "        print(f'attacking with power of {self.power}')\n",
    "\n",
    "class Archer(User):\n",
    "    def __init__(self,name,num_arrows):\n",
    "        self.name = name\n",
    "        self.num_arrows = num_arrows\n",
    "        \n",
    "    def attack(self):\n",
    "        print(f'attacking with arrows : arrows left - {self.num_arrows}')\n",
    "Wizard1 = Wizard('Merlin', 50)\n",
    "Archer1 = Archer('Navin', 100)\n",
    "print(Wizard1.attack()) # None in output because no return statement in method"
   ]
  },
  {
   "cell_type": "code",
   "execution_count": 45,
   "id": "d7a06cd9",
   "metadata": {},
   "outputs": [
    {
     "name": "stdout",
     "output_type": "stream",
     "text": [
      "True\n"
     ]
    }
   ],
   "source": [
    "print(isinstance(Wizard1, Wizard))"
   ]
  },
  {
   "cell_type": "code",
   "execution_count": 47,
   "id": "9eac3abf",
   "metadata": {},
   "outputs": [
    {
     "name": "stdout",
     "output_type": "stream",
     "text": [
      "True\n"
     ]
    }
   ],
   "source": [
    "print(isinstance(Wizard1, User))"
   ]
  },
  {
   "cell_type": "code",
   "execution_count": 49,
   "id": "ac5824c3",
   "metadata": {},
   "outputs": [
    {
     "name": "stdout",
     "output_type": "stream",
     "text": [
      "The seating capacity of a School Volvo is 50 passengers\n",
      "School Volvo\n"
     ]
    }
   ],
   "source": [
    "class Vehicle:\n",
    "    def __init__(self,name,max_speed,mileage):\n",
    "        self.name = name\n",
    "        self.max_speed = max_speed\n",
    "        self.mileage = mileage\n",
    "    def seating_capacity(self, capacity):\n",
    "        return f\"The seating capacity of a {self.name} is {capacity} passengers\"\n",
    "class Bus(Vehicle):\n",
    "    pass\n",
    "school_bus = Bus(\"School Volvo\", 180, 12)\n",
    "print(school_bus.seating_capacity(50))\n",
    "print(school_bus.name)"
   ]
  },
  {
   "cell_type": "code",
   "execution_count": 50,
   "id": "ed856523",
   "metadata": {},
   "outputs": [
    {
     "name": "stdout",
     "output_type": "stream",
     "text": [
      "The seating capacity of a School Volvo is 50 passengers\n",
      "School Volvo\n"
     ]
    }
   ],
   "source": [
    "class Vehicle:\n",
    "    def __init__(self,name,max_speed,mileage):\n",
    "        self.name = name\n",
    "        self.max_speed = max_speed\n",
    "        self.mileage = mileage\n",
    "    def seating_capacity(self, capacity):\n",
    "        return f\"The seating capacity of a {self.name} is {capacity} passengers\"\n",
    "class Bus(Vehicle):\n",
    "    # assign default value to capacity\n",
    "    def seating_capacity(self, capacity = 50):\n",
    "        return super().seating_capacity(capacity = 50) # aternative way using super function\n",
    "school_bus = Bus(\"School Volvo\", 180, 12)\n",
    "print(school_bus.seating_capacity())\n",
    "print(school_bus.name)"
   ]
  },
  {
   "cell_type": "code",
   "execution_count": null,
   "id": "e1ebafa3",
   "metadata": {},
   "outputs": [],
   "source": []
  }
 ],
 "metadata": {
  "kernelspec": {
   "display_name": "Python 3 (ipykernel)",
   "language": "python",
   "name": "python3"
  },
  "language_info": {
   "codemirror_mode": {
    "name": "ipython",
    "version": 3
   },
   "file_extension": ".py",
   "mimetype": "text/x-python",
   "name": "python",
   "nbconvert_exporter": "python",
   "pygments_lexer": "ipython3",
   "version": "3.9.12"
  }
 },
 "nbformat": 4,
 "nbformat_minor": 5
}
